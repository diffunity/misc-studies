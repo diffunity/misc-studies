{
  "nbformat": 4,
  "nbformat_minor": 0,
  "metadata": {
    "kernelspec": {
      "name": "python3",
      "display_name": "Python 3"
    },
    "colab": {
      "name": "NLP_project1.ipynb",
      "provenance": [],
      "collapsed_sections": []
    },
    "accelerator": "GPU"
  },
  "cells": [
    {
      "cell_type": "code",
      "metadata": {
        "id": "ZlFxA4jMfZHG",
        "colab_type": "code",
        "colab": {
          "base_uri": "https://localhost:8080/",
          "height": 71
        },
        "outputId": "6ea0726f-b2b4-406a-df5c-a614a4b29e6b"
      },
      "source": [
        "import pandas as pd\n",
        "import numpy as np\n",
        "import matplotlib.pyplot as plt\n",
        "import seaborn as sns\n",
        "import tensorflow as tf\n",
        "\n",
        "from gensim.models import Word2Vec, FastText"
      ],
      "execution_count": null,
      "outputs": [
        {
          "output_type": "stream",
          "text": [
            "/usr/local/lib/python3.6/dist-packages/statsmodels/tools/_testing.py:19: FutureWarning: pandas.util.testing is deprecated. Use the functions in the public API at pandas.testing instead.\n",
            "  import pandas.util.testing as tm\n"
          ],
          "name": "stderr"
        }
      ]
    },
    {
      "cell_type": "code",
      "metadata": {
        "id": "Ve1KKwtDfZHL",
        "colab_type": "code",
        "colab": {
          "base_uri": "https://localhost:8080/",
          "height": 34
        },
        "outputId": "bfc511c9-24b1-419f-d134-1a6be0af4c95"
      },
      "source": [
        "print(tf.__version__)"
      ],
      "execution_count": null,
      "outputs": [
        {
          "output_type": "stream",
          "text": [
            "2.2.0\n"
          ],
          "name": "stdout"
        }
      ]
    },
    {
      "cell_type": "code",
      "metadata": {
        "id": "NKRpXRi-fZHO",
        "colab_type": "code",
        "colab": {}
      },
      "source": [
        "labeled_data = pd.read_csv(\"./data/labeledTrainData.tsv\", sep=\"\\t\")\n",
        "test_data = pd.read_csv(\"./data/testData.tsv\", sep=\"\\t\")"
      ],
      "execution_count": null,
      "outputs": []
    },
    {
      "cell_type": "markdown",
      "metadata": {
        "id": "JdlYoOKKfZHR",
        "colab_type": "text"
      },
      "source": [
        "# Some EDA"
      ]
    },
    {
      "cell_type": "code",
      "metadata": {
        "id": "2q97zqvwfZHS",
        "colab_type": "code",
        "colab": {
          "base_uri": "https://localhost:8080/",
          "height": 204
        },
        "outputId": "0e1333d2-d31c-4d28-8d5b-0f1d06416f24"
      },
      "source": [
        "labeled_data.head()"
      ],
      "execution_count": null,
      "outputs": [
        {
          "output_type": "execute_result",
          "data": {
            "text/html": [
              "<div>\n",
              "<style scoped>\n",
              "    .dataframe tbody tr th:only-of-type {\n",
              "        vertical-align: middle;\n",
              "    }\n",
              "\n",
              "    .dataframe tbody tr th {\n",
              "        vertical-align: top;\n",
              "    }\n",
              "\n",
              "    .dataframe thead th {\n",
              "        text-align: right;\n",
              "    }\n",
              "</style>\n",
              "<table border=\"1\" class=\"dataframe\">\n",
              "  <thead>\n",
              "    <tr style=\"text-align: right;\">\n",
              "      <th></th>\n",
              "      <th>id</th>\n",
              "      <th>sentiment</th>\n",
              "      <th>review</th>\n",
              "    </tr>\n",
              "  </thead>\n",
              "  <tbody>\n",
              "    <tr>\n",
              "      <th>0</th>\n",
              "      <td>5814_8</td>\n",
              "      <td>1</td>\n",
              "      <td>With all this stuff going down at the moment w...</td>\n",
              "    </tr>\n",
              "    <tr>\n",
              "      <th>1</th>\n",
              "      <td>2381_9</td>\n",
              "      <td>1</td>\n",
              "      <td>\\The Classic War of the Worlds\\\" by Timothy Hi...</td>\n",
              "    </tr>\n",
              "    <tr>\n",
              "      <th>2</th>\n",
              "      <td>7759_3</td>\n",
              "      <td>0</td>\n",
              "      <td>The film starts with a manager (Nicholas Bell)...</td>\n",
              "    </tr>\n",
              "    <tr>\n",
              "      <th>3</th>\n",
              "      <td>3630_4</td>\n",
              "      <td>0</td>\n",
              "      <td>It must be assumed that those who praised this...</td>\n",
              "    </tr>\n",
              "    <tr>\n",
              "      <th>4</th>\n",
              "      <td>9495_8</td>\n",
              "      <td>1</td>\n",
              "      <td>Superbly trashy and wondrously unpretentious 8...</td>\n",
              "    </tr>\n",
              "  </tbody>\n",
              "</table>\n",
              "</div>"
            ],
            "text/plain": [
              "       id  sentiment                                             review\n",
              "0  5814_8          1  With all this stuff going down at the moment w...\n",
              "1  2381_9          1  \\The Classic War of the Worlds\\\" by Timothy Hi...\n",
              "2  7759_3          0  The film starts with a manager (Nicholas Bell)...\n",
              "3  3630_4          0  It must be assumed that those who praised this...\n",
              "4  9495_8          1  Superbly trashy and wondrously unpretentious 8..."
            ]
          },
          "metadata": {
            "tags": []
          },
          "execution_count": 7
        }
      ]
    },
    {
      "cell_type": "code",
      "metadata": {
        "id": "78KMFEECfZHW",
        "colab_type": "code",
        "colab": {
          "base_uri": "https://localhost:8080/",
          "height": 34
        },
        "outputId": "74fbf383-db16-4f8c-a116-d7034e7c4f53"
      },
      "source": [
        "print(\"Percentage of positive sentiments: \", labeled_data[\"sentiment\"].sum() / len(labeled_data))"
      ],
      "execution_count": null,
      "outputs": [
        {
          "output_type": "stream",
          "text": [
            "Percentage of positive sentiments:  0.5\n"
          ],
          "name": "stdout"
        }
      ]
    },
    {
      "cell_type": "code",
      "metadata": {
        "id": "cda0DsQ2fZHZ",
        "colab_type": "code",
        "colab": {
          "base_uri": "https://localhost:8080/",
          "height": 927
        },
        "outputId": "7f3f6d1a-4f93-499e-f1f3-20e093563586"
      },
      "source": [
        "import matplotlib.gridspec as gridspec\n",
        "\n",
        "length_of_texts = labeled_data[\"review\"].apply(len)\n",
        "length_of_test_texts = test_data[\"review\"].apply(len)\n",
        "\n",
        "_, axes = plt.subplots(2,2,figsize = (20,10), sharex = True, gridspec_kw = {\"width_ratios\":[2,1]})\n",
        "\n",
        "sns.distplot(length_of_texts, color = \"b\", ax = axes[0,0]).set(xlabel = \"length of texts\", title = \"Train data\")\n",
        "sns.distplot(length_of_test_texts, color = \"r\", ax = axes[1,0]).set(xlabel = \"length of texts\", title = \"Test data\")\n",
        "sns.boxplot(length_of_texts, color = \"b\", ax = axes[0,1]).set(xlabel = \"length of texts\", title = \"Train data\")\n",
        "sns.boxplot(length_of_test_texts, color = \"r\", ax = axes[1,1]).set(xlabel = \"length of texts\", title = \"Test data\")\n",
        "plt.show()\n",
        "\n",
        "print(length_of_texts.describe())\n",
        "print(length_of_test_texts.describe())"
      ],
      "execution_count": null,
      "outputs": [
        {
          "output_type": "display_data",
          "data": {
            "image/png": "[encoded data removed]",
            "text/plain": [
              "<Figure size 1440x720 with 4 Axes>"
            ]
          },
          "metadata": {
            "tags": [],
            "needs_background": "light"
          }
        },
        {
          "output_type": "stream",
          "text": [
            "count    25000.000000\n",
            "mean      1327.710560\n",
            "std       1005.239246\n",
            "min         52.000000\n",
            "25%        703.000000\n",
            "50%        981.000000\n",
            "75%       1617.000000\n",
            "max      13708.000000\n",
            "Name: review, dtype: float64\n",
            "count    25000.000000\n",
            "mean      1296.443280\n",
            "std        978.123328\n",
            "min         32.000000\n",
            "25%        697.000000\n",
            "50%        964.500000\n",
            "75%       1575.000000\n",
            "max      13004.000000\n",
            "Name: review, dtype: float64\n"
          ],
          "name": "stdout"
        }
      ]
    },
    {
      "cell_type": "code",
      "metadata": {
        "id": "elHLmuPPfZHc",
        "colab_type": "code",
        "colab": {
          "base_uri": "https://localhost:8080/",
          "height": 136
        },
        "outputId": "3fa3c1bb-2584-4be7-9e28-590935d9fc24"
      },
      "source": [
        "print(labeled_data.isnull().sum())\n",
        "print(test_data.isnull().sum())"
      ],
      "execution_count": null,
      "outputs": [
        {
          "output_type": "stream",
          "text": [
            "id           0\n",
            "sentiment    0\n",
            "review       0\n",
            "dtype: int64\n",
            "id        0\n",
            "review    0\n",
            "dtype: int64\n"
          ],
          "name": "stdout"
        }
      ]
    },
    {
      "cell_type": "markdown",
      "metadata": {
        "id": "8F33MZkHfZHg",
        "colab_type": "text"
      },
      "source": [
        "# Text Preprocessing"
      ]
    },
    {
      "cell_type": "code",
      "metadata": {
        "id": "E4AOW-MpfZHg",
        "colab_type": "code",
        "colab": {
          "base_uri": "https://localhost:8080/",
          "height": 85
        },
        "outputId": "cedb637c-4076-417d-c592-3246e6ee7f4a"
      },
      "source": [
        "import nltk\n",
        "nltk.download('punkt')\n",
        "nltk.download('stopwords')\n",
        "\n",
        "from nltk.tokenize import RegexpTokenizer\n",
        "from nltk.corpus import stopwords\n",
        "\n",
        "texts = labeled_data.review.copy()\n",
        "test_texts = test_data.review.copy()"
      ],
      "execution_count": null,
      "outputs": [
        {
          "output_type": "stream",
          "text": [
            "[nltk_data] Downloading package punkt to /root/nltk_data...\n",
            "[nltk_data]   Unzipping tokenizers/punkt.zip.\n",
            "[nltk_data] Downloading package stopwords to /root/nltk_data...\n",
            "[nltk_data]   Unzipping corpora/stopwords.zip.\n"
          ],
          "name": "stdout"
        }
      ]
    },
    {
      "cell_type": "code",
      "metadata": {
        "id": "GVoZGnrFfZHj",
        "colab_type": "code",
        "colab": {}
      },
      "source": [
        "def text_preprocess_tokenize(data, tokenizer = RegexpTokenizer(r'\\w+'), stopWords = stopwords.words('english'), stemmer = nltk.stem.porter.PorterStemmer()):\n",
        "    \"\"\"\n",
        "    data == pd.Series( of texts )\n",
        "    \"\"\"\n",
        "    \n",
        "    \n",
        "    # small capital\n",
        "    data = data.apply(lambda x: x.lower())\n",
        "    \n",
        "    # tokenize by reading only words\n",
        "    data = data.apply(tokenizer.tokenize)\n",
        "    \n",
        "    # exclude stopwords\n",
        "    f = lambda x: [i for i in x if i not in stopWords]\n",
        "    data = data.apply(f)\n",
        "    \n",
        "    data = data.apply(lambda i: [*map(stemmer.stem, i)])\n",
        "    return data\n",
        "\n",
        "texts = text_preprocess_tokenize(texts)\n",
        "test_texts = text_preprocess_tokenize(test_texts)"
      ],
      "execution_count": null,
      "outputs": []
    },
    {
      "cell_type": "code",
      "metadata": {
        "id": "vE9Fx8lLfZHm",
        "colab_type": "code",
        "colab": {}
      },
      "source": [
        "texts_unique = texts.explode().value_counts()\n",
        "test_texts_unique = test_texts.explode().value_counts()"
      ],
      "execution_count": null,
      "outputs": []
    },
    {
      "cell_type": "code",
      "metadata": {
        "id": "rQ7Cd5ftfZHp",
        "colab_type": "code",
        "colab": {
          "base_uri": "https://localhost:8080/",
          "height": 1000
        },
        "outputId": "9d70f6c6-69e9-4423-8f1d-7dcb205badd9"
      },
      "source": [
        "_, axes = plt.subplots(2,2,figsize = (20,10), sharex = True, gridspec_kw = {\"width_ratios\":[2,1]})\n",
        "\n",
        "sns.distplot(texts_unique, color = \"b\", ax = axes[0,0]).set(xlabel = \"length of texts\", title = \"Train data\")\n",
        "sns.distplot(test_texts_unique, color = \"r\", ax = axes[1,0]).set(xlabel = \"length of texts\", title = \"Test data\")\n",
        "sns.boxplot(texts_unique, color = \"b\", ax = axes[0,1]).set(xlabel = \"length of texts\", title = \"Train data\")\n",
        "sns.boxplot(test_texts_unique, color = \"r\", ax = axes[1,1]).set(xlabel = \"length of texts\", title = \"Test data\")\n",
        "plt.show()\n",
        "\n",
        "\n",
        "print(\" Number of unique words in Train data: \", len(texts_unique))\n",
        "print(\" Number of unique words in Test data: \", len(test_texts_unique))\n",
        "\n",
        "print(texts_unique.describe())\n",
        "print(texts_unique.describe())\n",
        "print(texts_unique.head(10))\n",
        "print(texts_unique.tail(10))\n",
        "print(test_texts_unique.head(10))\n",
        "print(test_texts_unique.tail(10))"
      ],
      "execution_count": null,
      "outputs": [
        {
          "output_type": "display_data",
          "data": {
            "image/png": "[encoded data removed]",
            "text/plain": [
              "<Figure size 1440x720 with 4 Axes>"
            ]
          },
          "metadata": {
            "tags": [],
            "needs_background": "light"
          }
        },
        {
          "output_type": "stream",
          "text": [
            " Number of unique words in Train data:  51265\n",
            " Number of unique words in Test data:  50501\n",
            "count     51265.000000\n",
            "mean         60.992178\n",
            "std         690.811310\n",
            "min           1.000000\n",
            "25%           1.000000\n",
            "50%           3.000000\n",
            "75%          12.000000\n",
            "max      101871.000000\n",
            "Name: review, dtype: float64\n",
            "count     51265.000000\n",
            "mean         60.992178\n",
            "std         690.811310\n",
            "min           1.000000\n",
            "25%           1.000000\n",
            "50%           3.000000\n",
            "75%          12.000000\n",
            "max      101871.000000\n",
            "Name: review, dtype: float64\n",
            "br         101871\n",
            "movi        51717\n",
            "film        48207\n",
            "one         27749\n",
            "like        22806\n",
            "time        16198\n",
            "good        15367\n",
            "make        15212\n",
            "charact     14184\n",
            "get         14142\n",
            "Name: review, dtype: int64\n",
            "mazzucato     1\n",
            "shumach       1\n",
            "auie          1\n",
            "crushingli    1\n",
            "chunkhead     1\n",
            "topactor      1\n",
            "quida         1\n",
            "chitter       1\n",
            "psycopath     1\n",
            "thunderjet    1\n",
            "Name: review, dtype: int64\n",
            "br         100080\n",
            "movi        51565\n",
            "film        47680\n",
            "one         27704\n",
            "like        22404\n",
            "time        15768\n",
            "good        14828\n",
            "make        14823\n",
            "charact     14180\n",
            "see         14129\n",
            "Name: review, dtype: int64\n",
            "privé       1\n",
            "oppeheim    1\n",
            "köhler      1\n",
            "firslti     1\n",
            "limpet      1\n",
            "dhoop       1\n",
            "giusti      1\n",
            "hadrian     1\n",
            "460         1\n",
            "mutiraci    1\n",
            "Name: review, dtype: int64\n"
          ],
          "name": "stdout"
        }
      ]
    },
    {
      "cell_type": "code",
      "metadata": {
        "id": "rYM-x0J0fZHs",
        "colab_type": "code",
        "colab": {
          "base_uri": "https://localhost:8080/",
          "height": 731
        },
        "outputId": "79891421-9ffc-4011-a77f-6beaee16d37c"
      },
      "source": [
        "for temp in [texts_unique, test_texts_unique]:\n",
        "    print(temp.quantile(0.9))\n",
        "    for i in range(10):\n",
        "        print(\" Number of unique words appearing more than {} times: {}\".format((i*10)+1, len(temp[temp>(i*10)+1])))\n",
        "        print(\" Number of unique words appearing less than {} times: {}\".format((i*2000)+1, len(temp[temp<(i*2000)+1])))"
      ],
      "execution_count": null,
      "outputs": [
        {
          "output_type": "stream",
          "text": [
            "59.0\n",
            " Number of unique words appearing more than 1 times: 31608\n",
            " Number of unique words appearing less than 1 times: 0\n",
            " Number of unique words appearing more than 11 times: 13151\n",
            " Number of unique words appearing less than 2001 times: 51000\n",
            " Number of unique words appearing more than 21 times: 9403\n",
            " Number of unique words appearing less than 4001 times: 51174\n",
            " Number of unique words appearing more than 31 times: 7564\n",
            " Number of unique words appearing less than 6001 times: 51209\n",
            " Number of unique words appearing more than 41 times: 6401\n",
            " Number of unique words appearing less than 8001 times: 51230\n",
            " Number of unique words appearing more than 51 times: 5603\n",
            " Number of unique words appearing less than 10001 times: 51246\n",
            " Number of unique words appearing more than 61 times: 5007\n",
            " Number of unique words appearing less than 12001 times: 51250\n",
            " Number of unique words appearing more than 71 times: 4542\n",
            " Number of unique words appearing less than 14001 times: 51254\n",
            " Number of unique words appearing more than 81 times: 4176\n",
            " Number of unique words appearing less than 16001 times: 51259\n",
            " Number of unique words appearing more than 91 times: 3846\n",
            " Number of unique words appearing less than 18001 times: 51260\n",
            "58.0\n",
            " Number of unique words appearing more than 1 times: 31405\n",
            " Number of unique words appearing less than 1 times: 0\n",
            " Number of unique words appearing more than 11 times: 12912\n",
            " Number of unique words appearing less than 2001 times: 50243\n",
            " Number of unique words appearing more than 21 times: 9232\n",
            " Number of unique words appearing less than 4001 times: 50418\n",
            " Number of unique words appearing more than 31 times: 7392\n",
            " Number of unique words appearing less than 6001 times: 50447\n",
            " Number of unique words appearing more than 41 times: 6293\n",
            " Number of unique words appearing less than 8001 times: 50467\n",
            " Number of unique words appearing more than 51 times: 5501\n",
            " Number of unique words appearing less than 10001 times: 50482\n",
            " Number of unique words appearing more than 61 times: 4873\n",
            " Number of unique words appearing less than 12001 times: 50486\n",
            " Number of unique words appearing more than 71 times: 4430\n",
            " Number of unique words appearing less than 14001 times: 50491\n",
            " Number of unique words appearing more than 81 times: 4091\n",
            " Number of unique words appearing less than 16001 times: 50496\n",
            " Number of unique words appearing more than 91 times: 3778\n",
            " Number of unique words appearing less than 18001 times: 50496\n"
          ],
          "name": "stdout"
        }
      ]
    },
    {
      "cell_type": "code",
      "metadata": {
        "id": "0Xkt-HlffZHv",
        "colab_type": "code",
        "colab": {}
      },
      "source": [
        "def text_preprocess_exclude_by_freq(data, freq_low, freq_hi):\n",
        "    val_cnt = data.explode().value_counts()\n",
        "    exclude_list = val_cnt.index[( (val_cnt < freq_low) | (val_cnt > freq_hi) )]\n",
        "    \n",
        "    f = lambda x: [i for i in x if i not in exclude_list]\n",
        "    data = data.apply(f)\n",
        "    \n",
        "    return data"
      ],
      "execution_count": null,
      "outputs": []
    },
    {
      "cell_type": "code",
      "metadata": {
        "id": "uxdfksPKfZHy",
        "colab_type": "code",
        "colab": {}
      },
      "source": [
        "texts = text_preprocess_exclude_by_freq(texts, freq_low = 50, freq_hi = 10000)\n",
        "\n",
        "test_texts = text_preprocess_exclude_by_freq(test_texts, freq_low = 50, freq_hi = 10000)"
      ],
      "execution_count": null,
      "outputs": []
    },
    {
      "cell_type": "code",
      "metadata": {
        "scrolled": false,
        "id": "0d7Fh-kifZH0",
        "colab_type": "code",
        "colab": {
          "base_uri": "https://localhost:8080/",
          "height": 1000
        },
        "outputId": "2d8c973a-5278-45a6-92a7-4a40a10e756d"
      },
      "source": [
        "# sanity check\n",
        "\n",
        "for i in [texts, test_texts]:\n",
        "    print(i.explode().value_counts())\n",
        "    print(\"Empty reveiws: \", i.apply(lambda x: x == []).sum())\n",
        "    print(i.apply(len).describe())\n",
        "    sns.distplot(i.apply(len))\n",
        "    plt.show()\n",
        "    sns.boxplot(i.apply(len))\n",
        "    plt.show()"
      ],
      "execution_count": null,
      "outputs": [
        {
          "output_type": "stream",
          "text": [
            "show           9878\n",
            "much           9764\n",
            "end            9655\n",
            "peopl          9393\n",
            "bad            9351\n",
            "               ... \n",
            "ceil             50\n",
            "roam             50\n",
            "hmmm             50\n",
            "conceit          50\n",
            "palestinian      50\n",
            "Name: review, Length: 5716, dtype: int64\n",
            "Empty reveiws:  0\n",
            "count    25000.000000\n",
            "mean        96.336520\n",
            "std         73.636048\n",
            "min          2.000000\n",
            "25%         50.000000\n",
            "50%         71.000000\n",
            "75%        118.000000\n",
            "max       1096.000000\n",
            "Name: review, dtype: float64\n"
          ],
          "name": "stdout"
        },
        {
          "output_type": "display_data",
          "data": {
            "image/png": "[encoded data removed]",
            "text/plain": [
              "<Figure size 432x288 with 1 Axes>"
            ]
          },
          "metadata": {
            "tags": [],
            "needs_background": "light"
          }
        },
        {
          "output_type": "display_data",
          "data": {
            "image/png": "[encoded data removed]",
            "text/plain": [
              "<Figure size 432x288 with 1 Axes>"
            ]
          },
          "metadata": {
            "tags": [],
            "needs_background": "light"
          }
        },
        {
          "output_type": "stream",
          "text": [
            "look       9896\n",
            "much       9554\n",
            "end        9445\n",
            "great      9230\n",
            "love       9194\n",
            "           ... \n",
            "flatlin      50\n",
            "sf           50\n",
            "comet        50\n",
            "vaniti       50\n",
            "dustin       50\n",
            "Name: review, Length: 5612, dtype: int64\n",
            "Empty reveiws:  0\n",
            "count    25000.000000\n",
            "mean        93.912600\n",
            "std         71.695096\n",
            "min          2.000000\n",
            "25%         50.000000\n",
            "50%         70.000000\n",
            "75%        115.000000\n",
            "max        917.000000\n",
            "Name: review, dtype: float64\n"
          ],
          "name": "stdout"
        },
        {
          "output_type": "display_data",
          "data": {
            "image/png": "[encoded data removed]",
            "text/plain": [
              "<Figure size 432x288 with 1 Axes>"
            ]
          },
          "metadata": {
            "tags": [],
            "needs_background": "light"
          }
        },
        {
          "output_type": "display_data",
          "data": {
            "image/png": "[encoded data removed]",
            "text/plain": [
              "<Figure size 432x288 with 1 Axes>"
            ]
          },
          "metadata": {
            "tags": [],
            "needs_background": "light"
          }
        }
      ]
    },
    {
      "cell_type": "code",
      "metadata": {
        "id": "ZqNqVGsYfZH3",
        "colab_type": "code",
        "colab": {}
      },
      "source": [
        "def vectorization(data, seq_len):    \n",
        "\n",
        "    # Tokenization (tensorflow)\n",
        "    xtokenizer = tf.keras.preprocessing.text.Tokenizer()\n",
        "    xtokenizer.fit_on_texts(data)\n",
        "    texts_numerized = xtokenizer.texts_to_sequences(data)\n",
        "    \n",
        "    texts_padded = tf.keras.preprocessing.sequence.pad_sequences(texts_numerized, padding=\"pre\", maxlen=seq_len)\n",
        "\n",
        "    wd2ix = xtokenizer.word_index\n",
        "    ix2wd = xtokenizer.index_word\n",
        "    \n",
        "    return texts_numerized, texts_padded, wd2ix, ix2wd, xtokenizer"
      ],
      "execution_count": null,
      "outputs": []
    },
    {
      "cell_type": "code",
      "metadata": {
        "id": "b09NiO9AfZH5",
        "colab_type": "code",
        "colab": {}
      },
      "source": [
        "# cut sequence length to 100 (approximately 75% quantile)\n",
        "seq_len = 100\n",
        "\n",
        "texts_numerized, texts_padded, texts_wd2ix, texts_ix2wd, texts_tokenizer = vectorization(texts, seq_len)"
      ],
      "execution_count": null,
      "outputs": []
    },
    {
      "cell_type": "code",
      "metadata": {
        "id": "TSfCIzNGfZH8",
        "colab_type": "code",
        "colab": {
          "base_uri": "https://localhost:8080/",
          "height": 34
        },
        "outputId": "9f484060-23b3-4815-f2a3-d91f5a439acb"
      },
      "source": [
        "print(\" Number of unique words in Train data: \", texts_padded.max() + 1)"
      ],
      "execution_count": null,
      "outputs": [
        {
          "output_type": "stream",
          "text": [
            " Number of unique words in Train data:  5717\n"
          ],
          "name": "stdout"
        }
      ]
    },
    {
      "cell_type": "code",
      "metadata": {
        "id": "Jhza-9FzfZH_",
        "colab_type": "code",
        "colab": {
          "base_uri": "https://localhost:8080/",
          "height": 34
        },
        "outputId": "7e6b2411-37a6-4b79-b043-90f24ada3c2e"
      },
      "source": [
        "print(\"GPUs : \", tf.config.experimental.list_physical_devices('GPU'))"
      ],
      "execution_count": null,
      "outputs": [
        {
          "output_type": "stream",
          "text": [
            "GPUs :  [PhysicalDevice(name='/physical_device:GPU:0', device_type='GPU')]\n"
          ],
          "name": "stdout"
        }
      ]
    },
    {
      "cell_type": "code",
      "metadata": {
        "scrolled": false,
        "id": "cmebJcYKfZIC",
        "colab_type": "code",
        "colab": {
          "base_uri": "https://localhost:8080/",
          "height": 374
        },
        "outputId": "ec84435e-d7cb-4082-d036-912ccb8c7f69"
      },
      "source": [
        "y = labeled_data[\"sentiment\"].copy()\n",
        "cat_classes = 1\n",
        "N = texts_padded.max() + 1\n",
        "embedding_size = 200\n",
        "input_length = seq_len\n",
        "num_units = 30\n",
        "\n",
        "#tf.debugging.set_log_device_placement(True)\n",
        "with tf.device(\"/GPU:0\"):\n",
        "\n",
        "  model = tf.keras.Sequential([tf.keras.layers.Embedding(N, embedding_size)])\n",
        "\n",
        "  model.add(tf.keras.layers.Bidirectional(tf.keras.layers.LSTM(units = num_units)))\n",
        "\n",
        "  model.add(tf.keras.layers.Dense(units = cat_classes))\n",
        "\n",
        "  model.compile(loss = \"binary_crossentropy\", optimizer = \"rmsprop\", metrics = [\"accuracy\"])\n",
        "\n",
        "  history = model.fit(texts_padded, y, epochs = 50, batch_size = 1000, validation_split=0.25\n",
        "                      , callbacks = [tf.keras.callbacks.EarlyStopping(patience=5, monitor=\"val_loss\")]\n",
        "                      )\n",
        "\n",
        "\n",
        "print(\"Learning Finished !\")"
      ],
      "execution_count": null,
      "outputs": [
        {
          "output_type": "error",
          "ename": "RuntimeError",
          "evalue": "ignored",
          "traceback": [
            "\u001b[0;31m---------------------------------------------------------------------------\u001b[0m",
            "\u001b[0;31mRuntimeError\u001b[0m                              Traceback (most recent call last)",
            "\u001b[0;32m<ipython-input-30-261eb7b1b809>\u001b[0m in \u001b[0;36m<module>\u001b[0;34m()\u001b[0m\n\u001b[1;32m      6\u001b[0m \u001b[0mnum_units\u001b[0m \u001b[0;34m=\u001b[0m \u001b[0;36m30\u001b[0m\u001b[0;34m\u001b[0m\u001b[0;34m\u001b[0m\u001b[0m\n\u001b[1;32m      7\u001b[0m \u001b[0;34m\u001b[0m\u001b[0m\n\u001b[0;32m----> 8\u001b[0;31m \u001b[0mtf\u001b[0m\u001b[0;34m.\u001b[0m\u001b[0mdebugging\u001b[0m\u001b[0;34m.\u001b[0m\u001b[0mset_log_device_placement\u001b[0m\u001b[0;34m(\u001b[0m\u001b[0menabled\u001b[0m \u001b[0;34m=\u001b[0m \u001b[0;32mFalse\u001b[0m\u001b[0;34m)\u001b[0m\u001b[0;34m\u001b[0m\u001b[0;34m\u001b[0m\u001b[0m\n\u001b[0m\u001b[1;32m      9\u001b[0m \u001b[0;32mwith\u001b[0m \u001b[0mtf\u001b[0m\u001b[0;34m.\u001b[0m\u001b[0mdevice\u001b[0m\u001b[0;34m(\u001b[0m\u001b[0;34m\"/GPU:0\"\u001b[0m\u001b[0;34m)\u001b[0m\u001b[0;34m:\u001b[0m\u001b[0;34m\u001b[0m\u001b[0;34m\u001b[0m\u001b[0m\n\u001b[1;32m     10\u001b[0m \u001b[0;34m\u001b[0m\u001b[0m\n",
            "\u001b[0;32m/usr/local/lib/python3.6/dist-packages/tensorflow/python/eager/context.py\u001b[0m in \u001b[0;36mset_log_device_placement\u001b[0;34m(enabled)\u001b[0m\n\u001b[1;32m   1939\u001b[0m     \u001b[0menabled\u001b[0m\u001b[0;34m:\u001b[0m \u001b[0mWhether\u001b[0m \u001b[0mto\u001b[0m \u001b[0menabled\u001b[0m \u001b[0mdevice\u001b[0m \u001b[0mplacement\u001b[0m \u001b[0mlogging\u001b[0m\u001b[0;34m.\u001b[0m\u001b[0;34m\u001b[0m\u001b[0;34m\u001b[0m\u001b[0m\n\u001b[1;32m   1940\u001b[0m   \"\"\"\n\u001b[0;32m-> 1941\u001b[0;31m   \u001b[0mcontext\u001b[0m\u001b[0;34m(\u001b[0m\u001b[0;34m)\u001b[0m\u001b[0;34m.\u001b[0m\u001b[0mlog_device_placement\u001b[0m \u001b[0;34m=\u001b[0m \u001b[0menabled\u001b[0m\u001b[0;34m\u001b[0m\u001b[0;34m\u001b[0m\u001b[0m\n\u001b[0m\u001b[1;32m   1942\u001b[0m \u001b[0;34m\u001b[0m\u001b[0m\n\u001b[1;32m   1943\u001b[0m \u001b[0;34m\u001b[0m\u001b[0m\n",
            "\u001b[0;32m/usr/local/lib/python3.6/dist-packages/tensorflow/python/eager/context.py\u001b[0m in \u001b[0;36mlog_device_placement\u001b[0;34m(self, enabled)\u001b[0m\n\u001b[1;32m   1488\u001b[0m     \u001b[0;32mif\u001b[0m \u001b[0mself\u001b[0m\u001b[0;34m.\u001b[0m\u001b[0m_context_handle\u001b[0m \u001b[0;32mis\u001b[0m \u001b[0;32mnot\u001b[0m \u001b[0;32mNone\u001b[0m\u001b[0;34m:\u001b[0m\u001b[0;34m\u001b[0m\u001b[0;34m\u001b[0m\u001b[0m\n\u001b[1;32m   1489\u001b[0m       raise RuntimeError(\n\u001b[0;32m-> 1490\u001b[0;31m           \"Device placement logging must be set at program startup\")\n\u001b[0m\u001b[1;32m   1491\u001b[0m \u001b[0;34m\u001b[0m\u001b[0m\n\u001b[1;32m   1492\u001b[0m     \u001b[0mself\u001b[0m\u001b[0;34m.\u001b[0m\u001b[0m_log_device_placement\u001b[0m \u001b[0;34m=\u001b[0m \u001b[0menabled\u001b[0m\u001b[0;34m\u001b[0m\u001b[0;34m\u001b[0m\u001b[0m\n",
            "\u001b[0;31mRuntimeError\u001b[0m: Device placement logging must be set at program startup"
          ]
        }
      ]
    },
    {
      "cell_type": "markdown",
      "metadata": {
        "id": "N0r2XKRSfZIF",
        "colab_type": "text"
      },
      "source": [
        "# Submission"
      ]
    },
    {
      "cell_type": "code",
      "metadata": {
        "id": "mlD7ekynfZIF",
        "colab_type": "code",
        "colab": {},
        "outputId": "b156b1a5-561f-4a27-b3f8-0bc98f9242b7"
      },
      "source": [
        "test_texts_numerized = texts_tokenizer.texts_to_sequences(test_texts)\n",
        "\n",
        "test_texts_padded = tf.keras.preprocessing.sequence.pad_sequences(test_texts_numerized, padding = \"pre\", maxlen = seq_len)\n",
        "\n",
        "predictions = model.predict(test_texts_padded)"
      ],
      "execution_count": null,
      "outputs": [
        {
          "output_type": "stream",
          "text": [
            "Executing op RangeDataset in device /job:localhost/replica:0/task:0/device:CPU:0\n",
            "Executing op RepeatDataset in device /job:localhost/replica:0/task:0/device:CPU:0\n",
            "Executing op MapDataset in device /job:localhost/replica:0/task:0/device:CPU:0\n",
            "Executing op PrefetchDataset in device /job:localhost/replica:0/task:0/device:CPU:0\n",
            "Executing op FlatMapDataset in device /job:localhost/replica:0/task:0/device:CPU:0\n",
            "Executing op TensorDataset in device /job:localhost/replica:0/task:0/device:CPU:0\n",
            "Executing op RepeatDataset in device /job:localhost/replica:0/task:0/device:CPU:0\n",
            "Executing op ZipDataset in device /job:localhost/replica:0/task:0/device:CPU:0\n",
            "Executing op ParallelMapDataset in device /job:localhost/replica:0/task:0/device:CPU:0\n",
            "Executing op ModelDataset in device /job:localhost/replica:0/task:0/device:CPU:0\n",
            "Executing op AnonymousIteratorV2 in device /job:localhost/replica:0/task:0/device:CPU:0\n",
            "Executing op __inference_distributed_function_8452 in device /job:localhost/replica:0/task:0/device:GPU:0\n"
          ],
          "name": "stdout"
        }
      ]
    },
    {
      "cell_type": "code",
      "metadata": {
        "id": "2Zx21821fZII",
        "colab_type": "code",
        "colab": {}
      },
      "source": [
        "predictions = (predictions > 0.5).astype(int).reshape(-1)"
      ],
      "execution_count": null,
      "outputs": []
    },
    {
      "cell_type": "code",
      "metadata": {
        "id": "YnI6qG32fZIL",
        "colab_type": "code",
        "colab": {},
        "outputId": "e8ec5d12-dd4b-4820-abae-e4060b392913"
      },
      "source": [
        "predictions"
      ],
      "execution_count": null,
      "outputs": [
        {
          "output_type": "execute_result",
          "data": {
            "text/plain": [
              "array([1, 0, 0, ..., 0, 1, 1])"
            ]
          },
          "metadata": {
            "tags": []
          },
          "execution_count": 26
        }
      ]
    },
    {
      "cell_type": "code",
      "metadata": {
        "id": "wMbuCDQZfZIN",
        "colab_type": "code",
        "colab": {}
      },
      "source": [
        "submission = pd.read_csv(\"/kaggle/input/word2vec-nlp-tutorial/sampleSubmission.csv\")\n",
        "\n",
        "submission[\"sentiment\"] = predictions"
      ],
      "execution_count": null,
      "outputs": []
    },
    {
      "cell_type": "code",
      "metadata": {
        "id": "N3CgRoPMfZIQ",
        "colab_type": "code",
        "colab": {}
      },
      "source": [
        "submission.to_csv(\"submission_vanilla_lstm.csv\", index = False)"
      ],
      "execution_count": null,
      "outputs": []
    },
    {
      "cell_type": "code",
      "metadata": {
        "id": "xYNBmlLcfZIT",
        "colab_type": "code",
        "colab": {},
        "outputId": "3abdde86-de69-4482-e025-8a609f427b70"
      },
      "source": [
        "submission"
      ],
      "execution_count": null,
      "outputs": [
        {
          "output_type": "execute_result",
          "data": {
            "text/html": [
              "<div>\n",
              "<style scoped>\n",
              "    .dataframe tbody tr th:only-of-type {\n",
              "        vertical-align: middle;\n",
              "    }\n",
              "\n",
              "    .dataframe tbody tr th {\n",
              "        vertical-align: top;\n",
              "    }\n",
              "\n",
              "    .dataframe thead th {\n",
              "        text-align: right;\n",
              "    }\n",
              "</style>\n",
              "<table border=\"1\" class=\"dataframe\">\n",
              "  <thead>\n",
              "    <tr style=\"text-align: right;\">\n",
              "      <th></th>\n",
              "      <th>id</th>\n",
              "      <th>sentiment</th>\n",
              "    </tr>\n",
              "  </thead>\n",
              "  <tbody>\n",
              "    <tr>\n",
              "      <th>0</th>\n",
              "      <td>12311_10</td>\n",
              "      <td>1</td>\n",
              "    </tr>\n",
              "    <tr>\n",
              "      <th>1</th>\n",
              "      <td>8348_2</td>\n",
              "      <td>0</td>\n",
              "    </tr>\n",
              "    <tr>\n",
              "      <th>2</th>\n",
              "      <td>5828_4</td>\n",
              "      <td>0</td>\n",
              "    </tr>\n",
              "    <tr>\n",
              "      <th>3</th>\n",
              "      <td>7186_2</td>\n",
              "      <td>0</td>\n",
              "    </tr>\n",
              "    <tr>\n",
              "      <th>4</th>\n",
              "      <td>12128_7</td>\n",
              "      <td>1</td>\n",
              "    </tr>\n",
              "    <tr>\n",
              "      <th>...</th>\n",
              "      <td>...</td>\n",
              "      <td>...</td>\n",
              "    </tr>\n",
              "    <tr>\n",
              "      <th>24995</th>\n",
              "      <td>2155_10</td>\n",
              "      <td>1</td>\n",
              "    </tr>\n",
              "    <tr>\n",
              "      <th>24996</th>\n",
              "      <td>59_10</td>\n",
              "      <td>1</td>\n",
              "    </tr>\n",
              "    <tr>\n",
              "      <th>24997</th>\n",
              "      <td>2531_1</td>\n",
              "      <td>0</td>\n",
              "    </tr>\n",
              "    <tr>\n",
              "      <th>24998</th>\n",
              "      <td>7772_8</td>\n",
              "      <td>1</td>\n",
              "    </tr>\n",
              "    <tr>\n",
              "      <th>24999</th>\n",
              "      <td>11465_10</td>\n",
              "      <td>1</td>\n",
              "    </tr>\n",
              "  </tbody>\n",
              "</table>\n",
              "<p>25000 rows × 2 columns</p>\n",
              "</div>"
            ],
            "text/plain": [
              "             id  sentiment\n",
              "0      12311_10          1\n",
              "1        8348_2          0\n",
              "2        5828_4          0\n",
              "3        7186_2          0\n",
              "4       12128_7          1\n",
              "...         ...        ...\n",
              "24995   2155_10          1\n",
              "24996     59_10          1\n",
              "24997    2531_1          0\n",
              "24998    7772_8          1\n",
              "24999  11465_10          1\n",
              "\n",
              "[25000 rows x 2 columns]"
            ]
          },
          "metadata": {
            "tags": []
          },
          "execution_count": 29
        }
      ]
    },
    {
      "cell_type": "markdown",
      "metadata": {
        "id": "pPndiwxXfZIW",
        "colab_type": "text"
      },
      "source": [
        "# Training with Word2Vec and FastText (using gensim)\n",
        "\n",
        "* Pretrain with word2vec / fasttext using gensim wrapper"
      ]
    },
    {
      "cell_type": "code",
      "metadata": {
        "id": "cMpobPynfZIW",
        "colab_type": "code",
        "colab": {},
        "outputId": "faad6d61-6f0d-4fdd-edea-f5a1d52c5e46"
      },
      "source": [
        "unlabeled_data = pd.read_csv(\"./data/unlabeledTrainData.tsv\", sep=\"\\t\", error_bad_lines = False)\n",
        "\n",
        "unlabeled_data.head()"
      ],
      "execution_count": null,
      "outputs": [
        {
          "output_type": "stream",
          "text": [
            "b'Skipping line 43043: expected 2 fields, saw 3\\n'\n"
          ],
          "name": "stderr"
        },
        {
          "output_type": "execute_result",
          "data": {
            "text/html": [
              "<div>\n",
              "<style scoped>\n",
              "    .dataframe tbody tr th:only-of-type {\n",
              "        vertical-align: middle;\n",
              "    }\n",
              "\n",
              "    .dataframe tbody tr th {\n",
              "        vertical-align: top;\n",
              "    }\n",
              "\n",
              "    .dataframe thead th {\n",
              "        text-align: right;\n",
              "    }\n",
              "</style>\n",
              "<table border=\"1\" class=\"dataframe\">\n",
              "  <thead>\n",
              "    <tr style=\"text-align: right;\">\n",
              "      <th></th>\n",
              "      <th>id</th>\n",
              "      <th>review</th>\n",
              "    </tr>\n",
              "  </thead>\n",
              "  <tbody>\n",
              "    <tr>\n",
              "      <th>0</th>\n",
              "      <td>9999_0</td>\n",
              "      <td>Watching Time Chasers, it obvious that it was ...</td>\n",
              "    </tr>\n",
              "    <tr>\n",
              "      <th>1</th>\n",
              "      <td>45057_0</td>\n",
              "      <td>I saw this film about 20 years ago and remembe...</td>\n",
              "    </tr>\n",
              "    <tr>\n",
              "      <th>2</th>\n",
              "      <td>15561_0</td>\n",
              "      <td>Minor Spoilers&lt;br /&gt;&lt;br /&gt;In New York, Joan Ba...</td>\n",
              "    </tr>\n",
              "    <tr>\n",
              "      <th>3</th>\n",
              "      <td>7161_0</td>\n",
              "      <td>I went to see this film with a great deal of e...</td>\n",
              "    </tr>\n",
              "    <tr>\n",
              "      <th>4</th>\n",
              "      <td>43971_0</td>\n",
              "      <td>Yes, I agree with everyone on this site this m...</td>\n",
              "    </tr>\n",
              "  </tbody>\n",
              "</table>\n",
              "</div>"
            ],
            "text/plain": [
              "        id                                             review\n",
              "0   9999_0  Watching Time Chasers, it obvious that it was ...\n",
              "1  45057_0  I saw this film about 20 years ago and remembe...\n",
              "2  15561_0  Minor Spoilers<br /><br />In New York, Joan Ba...\n",
              "3   7161_0  I went to see this film with a great deal of e...\n",
              "4  43971_0  Yes, I agree with everyone on this site this m..."
            ]
          },
          "metadata": {
            "tags": []
          },
          "execution_count": 20
        }
      ]
    },
    {
      "cell_type": "code",
      "metadata": {
        "id": "AVNZrSM1fZIZ",
        "colab_type": "code",
        "colab": {}
      },
      "source": [
        "unlabeled_texts = unlabeled_data[\"review\"].copy()\n",
        "unlabeled_texts = text_preprocess_tokenize(unlabeled_texts)\n",
        "unlabeled_texts = text_preprocess_exclude_by_freq(unlabeled_texts, freq_low = 50, freq_hi = 10000)"
      ],
      "execution_count": null,
      "outputs": []
    },
    {
      "cell_type": "code",
      "metadata": {
        "id": "i-26pi_5fZIc",
        "colab_type": "code",
        "colab": {},
        "outputId": "b3dd2c92-d12c-41d4-ee14-7af7b71c995b"
      },
      "source": [
        "sns.distplot(unlabeled_texts.explode().value_counts())\n",
        "plt.show()\n",
        "\n",
        "print(unlabeled_texts.explode().value_counts())"
      ],
      "execution_count": null,
      "outputs": [
        {
          "output_type": "display_data",
          "data": {
            "image/png": "[encoded data removed]",
            "text/plain": [
              "<Figure size 432x288 with 1 Axes>"
            ]
          },
          "metadata": {
            "tags": [],
            "needs_background": "light"
          }
        },
        {
          "output_type": "stream",
          "text": [
            "actual     9953\n",
            "lot        9948\n",
            "real       9770\n",
            "guy        9332\n",
            "live       9123\n",
            "           ... \n",
            "unexcit      50\n",
            "tremor       50\n",
            "maggot       50\n",
            "brag         50\n",
            "engulf       50\n",
            "Name: review, Length: 8565, dtype: int64\n"
          ],
          "name": "stdout"
        }
      ]
    },
    {
      "cell_type": "code",
      "metadata": {
        "id": "7oehZezufZIe",
        "colab_type": "code",
        "colab": {}
      },
      "source": [
        "unlabeled_with_test = pd.concat([unlabeled_texts, test_texts], ignore_index = True)"
      ],
      "execution_count": null,
      "outputs": []
    },
    {
      "cell_type": "code",
      "metadata": {
        "id": "eYKsYNwWfZIh",
        "colab_type": "code",
        "colab": {}
      },
      "source": [
        "embeddings = [\"w2v_model\", \"w2v_model_ut\", \"ft_model\", \"ft_model_ut\"]"
      ],
      "execution_count": null,
      "outputs": []
    },
    {
      "cell_type": "code",
      "metadata": {
        "id": "F8kznUAnfZIk",
        "colab_type": "code",
        "colab": {},
        "outputId": "8e20410b-1c0d-47ac-eeeb-1541abb5edaf"
      },
      "source": [
        "# Pre-train on unlabeled_texts + test_texts and training data (texts)\n",
        "w2v_model_ut = Word2Vec(unlabeled_with_test, size = 200, workers = 4, window = 5, sg = 1)\n",
        "w2v_model_ut.train(unlabeled_with_test, total_examples = len(unlabeled_with_test), epochs = 20)\n",
        "w2v_model_ut.train(texts, total_examples = len(texts), epochs = 20)"
      ],
      "execution_count": null,
      "outputs": [
        {
          "output_type": "execute_result",
          "data": {
            "text/plain": [
              "(47755400, 48168260)"
            ]
          },
          "metadata": {
            "tags": []
          },
          "execution_count": 24
        }
      ]
    },
    {
      "cell_type": "code",
      "metadata": {
        "id": "4YUajEF3fZIm",
        "colab_type": "code",
        "colab": {}
      },
      "source": [
        "# 사실 여기 pretraining이랑 fine-tuning과정이 완벽히 맞는건 같진 않은데 이거 보는 사람들 피드백 주면 고마울 것 같습니다. \n",
        "# 아래 모델 과정도 참조 바람\n",
        "\n",
        "# W2V (Google)\n",
        "\n",
        "# Pre-train on unlabeled_texts and training data (texts)\n",
        "w2v_model = Word2Vec(unlabeled_texts, size = 200, workers = 4, window = 5, sg = 1)\n",
        "w2v_model.train(unlabeled_texts, total_examples = len(unlabeled_texts), epochs = 20)\n",
        "w2v_model.train(texts, total_examples = len(texts), epochs = 20)\n",
        "\n",
        "# Pre-train on unlabeled_texts + test_texts and training data (texts)\n",
        "w2v_model_ut = Word2Vec(unlabeled_with_test, size = 200, workers = 4, window = 5, sg = 1)\n",
        "w2v_model_ut.train(unlabeled_with_test, total_examples = len(unlabeled_with_test), epochs = 20)\n",
        "w2v_model_ut.train(texts, total_examples = len(texts), epochs = 20)"
      ],
      "execution_count": null,
      "outputs": []
    },
    {
      "cell_type": "code",
      "metadata": {
        "id": "0ClOz_VPfZIo",
        "colab_type": "code",
        "colab": {}
      },
      "source": [
        "# FastText (Facebook)\n",
        "\n",
        "# Pre-train on unlabeled_texts and fine-tune on training data (texts)\n",
        "ft_model = FastText(unlabeled_texts, size = 200, workers = 4, window = 5)\n",
        "ft_model.train(unlabeled_texts, total_examples = len(unlabeled_texts), epochs = 20)\n",
        "\n",
        "ft_model.train(texts, total_examples = len(texts), epochs = 20)\n",
        "\n",
        "# Pre-train on unlabeled_texts + test_texts and fine-tune on training data (texts)\n",
        "ft_model_ut = FastText(unlabeled_with_test, size = 200, workers = 4, window = 5)\n",
        "ft_model_ut.train(unlabeled_with_test, total_examples = len(unlabeled_with_test), epochs = 20)\n",
        "\n",
        "ft_model_ut.train(texts, total_examples = len(texts), epochs = 20)"
      ],
      "execution_count": null,
      "outputs": []
    },
    {
      "cell_type": "code",
      "metadata": {
        "id": "1OXtrbZnfZIq",
        "colab_type": "code",
        "colab": {}
      },
      "source": [
        "# Check learned embeddings\n",
        "\n",
        "w2v_model.wv.most_similar(\"money\")"
      ],
      "execution_count": null,
      "outputs": []
    },
    {
      "cell_type": "markdown",
      "metadata": {
        "id": "ewMdklmcfZIu",
        "colab_type": "text"
      },
      "source": [
        "## Use Multiprocessing for embeddings"
      ]
    },
    {
      "cell_type": "code",
      "metadata": {
        "id": "Mppx8tFLfZIu",
        "colab_type": "code",
        "colab": {}
      },
      "source": [
        "# from https://github.com/corazzon/KaggleStruggle/blob/master/word2vec-nlp-tutorial/KaggleWord2VecUtility.py\n",
        "\n",
        "from multiprocessing import Pool\n",
        "\n",
        "\n",
        "class multiprocessing(object):    \n",
        "    \n",
        "    # 참고 : https://gist.github.com/yong27/7869662\n",
        "    # http://www.racketracer.com/2016/07/06/pandas-in-parallel/\n",
        "    # 속도 개선을 위해 멀티 스레드로 작업하도록\n",
        "    @staticmethod\n",
        "    def _apply_df(args):\n",
        "        df, func, kwargs = args\n",
        "        return df.apply(func, **kwargs)\n",
        "    \n",
        "    @staticmethod\n",
        "    def apply_by_multiprocessing(df, func, **kwargs):\n",
        "        # 키워드 항목 중 workers 파라메터를 꺼냄\n",
        "        workers = kwargs.pop('workers')\n",
        "        # 위에서 가져온 workers 수로 프로세스 풀을 정의\n",
        "        pool = Pool(processes=workers)\n",
        "        # 실행할 함수와 데이터프레임을 워커의 수 만큼 나눠 작업\n",
        "        result = pool.map(multiprocessing._apply_df, [(d, func, kwargs)\n",
        "                for d in np.array_split(df, workers)])\n",
        "        pool.close()\n",
        "        # 작업 결과를 합쳐서 반환\n",
        "        return pd.concat(result)"
      ],
      "execution_count": null,
      "outputs": []
    },
    {
      "cell_type": "code",
      "metadata": {
        "id": "d30AonrnfZIx",
        "colab_type": "code",
        "colab": {}
      },
      "source": [
        "# Multiprocessing for FastText and Word2Vec\n",
        "\n",
        "model_result = dict()\n",
        "for embed_model in [FastText(size = 200, window = 5), Word2Vec(size = 200, window = 5)]:\n",
        "    mtp = multiprocessing()\n",
        "    model_result[type(embed_model).__name__] = mtp.apply_by_multiprocessing(unlabeled_with_test, embed_model.train,\n",
        "                                               epochs = 10, total_examples = len(unlabeled_with_test), workers = 4)\n"
      ],
      "execution_count": null,
      "outputs": []
    },
    {
      "cell_type": "markdown",
      "metadata": {
        "id": "57htkYzCfZIz",
        "colab_type": "text"
      },
      "source": [
        "## 4 Pretrained Embeddings\n",
        "\n",
        "1. word2vec (pretrain: unlabeled_texts, fine-tune: training texts)\n",
        "2. word2vec (pretrain: unlabeled_texts+test_texts, fine-tune: training texts)\n",
        "3. fasttext (pretrain: unlabeled_texts, fine-tune: training texts)\n",
        "4. fasttext (pretrain: unlabeled_texts+test_texts, fine-tune: training texts)\n",
        "5. Glove (?)"
      ]
    },
    {
      "cell_type": "code",
      "metadata": {
        "id": "-BQzQVuUfZI0",
        "colab_type": "code",
        "colab": {}
      },
      "source": [
        "# from https://www.kaggle.com/alexcherniuk/imdb-review-word2vec-bilstm-99-acc\n",
        "\n",
        "# Embedding Layer 에서 trainable = False로 설정하면, gensim을 통해 얻은 embedding을 학습없이 그대로 사용 (이렇게 되면 fine-tuning이 아닌 것 같음)\n",
        "# Embedding Layer 에서 trainable = True (default)로 설정하면, 첫 instantiating만 gensim을 통해 얻은 embedding을 사용 (이게 fine-tuning 이겠지?)\n",
        "# 아래 모델에서는 freeze parameter로 fine-tuning (?) 제어\n",
        "# 어떤 freeze방식이 적절한지 모르겠음\n",
        "\n",
        "\n",
        "def vectorize_data(data, vocab: dict) -> list:\n",
        "    keys = list(vocab.keys())\n",
        "    filter_unknown = lambda word: vocab.get(word, None) is not None\n",
        "    encode = lambda review: list(map(keys.index, filter(filter_unknown, review)))\n",
        "    vectorized = list(map(encode, data))\n",
        "    return vectorized\n",
        "\n",
        "\n",
        "def build_and_train(texts_padded, y, embedding_matrix, input_length, epochs = 20, freeze_after = None, freeze_before = None):\n",
        "    \n",
        "    cat_classes = 1\n",
        "    \n",
        "    model = tf.keras.Sequential([tf.keras.layers.Embedding( input_dim = embedding_matrix.shape[0],\n",
        "                                                            output_dim = embedding_matrix.shape[1],\n",
        "                                                            input_length = input_length,\n",
        "                                                            weights = [embedding_matrix],\n",
        "                                                            trainable = True)])\n",
        "\n",
        "    model.add(tf.keras.layers.Bidirectional(tf.keras.layers.LSTM(units = 128, recurrent_dropout = 0.1)))\n",
        "\n",
        "    model.add(tf.keras.layers.Dropout(0.25))\n",
        "\n",
        "    model.add(tf.keras.layers.Dense(units = 64))\n",
        "\n",
        "    model.add(tf.keras.layers.Dropout(0.3))\n",
        "\n",
        "    model.add(tf.keras.layers.Dense(units = cat_classes))\n",
        "\n",
        "    optimizer = [\"adam\",\"rmsporp\"]\n",
        "    \n",
        "    model.layers[0].trainable = not bool(freeze_before)\n",
        "    \n",
        "    model.compile(loss = \"binary_crossentropy\", optimizer = optimizer[0], metrics = [\"accuracy\"])\n",
        "    \n",
        "    if freeze_after:\n",
        "        \n",
        "        print(\"Training Embedding...\")\n",
        "        \n",
        "        model.fit(texts_padded, y, epochs = freeze_after, batch_size = 1000, validation_split=0.25\n",
        "                        , callbacks = [tf.keras.callbacks.EarlyStopping(patience=10, monitor=\"val_loss\")]\n",
        "                        )\n",
        "        \n",
        "        print(\"Embedding frozen...\")\n",
        "        \n",
        "        # freeze\n",
        "        model.layers[0].trainable = False\n",
        "        # compile again with frozen embeddings\n",
        "        model.compile(loss = \"binary_crossentropy\", optimizer = optimizer[0], metrics = [\"accuracy\"])\n",
        "        \n",
        "        history = model.fit(texts_padded, y, epochs = (epochs-freeze_after), batch_size = 1000, validation_split=0.25\n",
        "                        , callbacks = [tf.keras.callbacks.EarlyStopping(patience=10, monitor=\"val_loss\")]\n",
        "                        )\n",
        "    elif freeze_before:\n",
        "        \n",
        "        print(\"Embedding frozen...\")\n",
        "        \n",
        "        model.fit(texts_padded, y, epochs = freeze_before, batch_size = 1000, validation_split=0.25\n",
        "                        , callbacks = [tf.keras.callbacks.EarlyStopping(patience=10, monitor=\"val_loss\")]\n",
        "                        )\n",
        "        \n",
        "        print(\"Training Embedding...\")\n",
        "        \n",
        "        # unfreeze\n",
        "        model.layers[0].trainable = True\n",
        "        # compile again with frozen embeddings\n",
        "        model.compile(loss = \"binary_crossentropy\", optimizer = optimizer[0], metrics = [\"accuracy\"])\n",
        "        \n",
        "        history = model.fit(texts_padded, y, epochs = (epochs-freeze_before), batch_size = 1000, validation_split=0.25\n",
        "                        , callbacks = [tf.keras.callbacks.EarlyStopping(patience=10, monitor=\"val_loss\")]\n",
        "                        )\n",
        "    else:\n",
        "        \n",
        "        history = model.fit(texts_padded, y, epochs = epochs, batch_size = 1000, validation_split=0.25\n",
        "                        , callbacks = [tf.keras.callbacks.EarlyStopping(patience=10, monitor=\"val_loss\")]\n",
        "                        )\n",
        "\n",
        "    print(\"Learning Finished !\")\n",
        "    \n",
        "    return model, history"
      ],
      "execution_count": null,
      "outputs": []
    },
    {
      "cell_type": "code",
      "metadata": {
        "id": "kAwQxwMifZI2",
        "colab_type": "code",
        "colab": {}
      },
      "source": [
        "y = labeled_data[\"sentiment\"].copy()"
      ],
      "execution_count": null,
      "outputs": []
    },
    {
      "cell_type": "code",
      "metadata": {
        "id": "4JtdZP_MfZI5",
        "colab_type": "code",
        "colab": {}
      },
      "source": [
        "embedding_results = dict()\n",
        "models = dict()\n",
        "n_epochs = 50\n",
        "freeze = 5\n",
        "\n",
        "for e,i in enumerate(embeddings):\n",
        "    print(embeddings, \"-\"*30)\n",
        "    # tf.debugging.set_log_device_placement(True)\n",
        "    embedding = eval(i)\n",
        "    \n",
        "    texts_numerized = vectorize_data(texts, embedding.wv.vocab)\n",
        "    texts_padded = tf.keras.preprocessing.sequence.pad_sequences(texts_numerized, padding=\"pre\", maxlen=seq_len)\n",
        "\n",
        "    model, history = build_and_train(texts_padded = texts_padded, y = y, \n",
        "                                     embedding_matrix = embedding.wv.vectors, input_length = seq_len,\n",
        "                                     epochs = n_epochs, freeze_before = freeze)\n",
        "    models[i] = model\n",
        "    embedding_results[i] = history.history"
      ],
      "execution_count": null,
      "outputs": []
    }
  ]
}
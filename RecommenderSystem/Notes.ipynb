{
 "cells": [
  {
   "cell_type": "markdown",
   "metadata": {},
   "source": [
    "# Recommender System\n",
    "\n",
    "\n",
    "## Week 1 - Introducing Recommender Systems\n",
    "\n",
    "##### Preferences and Ratings\n",
    "\n",
    "- what data recommenders can use to learn what users like\n",
    "- identify types of data collected from useres\n",
    "- Understand when different data types are possible and appropriate\n",
    "- Be able to identify types of preference data likely used in a system\n",
    "\n",
    "<p>&nbsp;</p>\n",
    "\n",
    "\n",
    "##### Preference Model \n",
    "- how users display their preferences \\\n",
    "    i. Explicit - Rating, Review, Vote (show what they think about the item) \\\n",
    "    ii. Implicit - Click, Purchase, Follow (users are not taking actions to communicate their preference but shows their preference)\n",
    "    \n",
    "    \n",
    "- Explicit Ratings \n",
    "    - How - ask them\n",
    "    \n",
    "    - Problems\n",
    "        > half-stars? \\\n",
    "        > provide meaning / calibration? \\\n",
    "        > but More is not necessarily better especially if users cant utilize more data \\\n",
    "        > explicit ratings may hold different significance to different users \\\n",
    "        > there is much \n",
    "        \n",
    "    - When are ratings provided?\n",
    "    \n",
    "<p>&nbsp;</p>\n",
    "\n",
    "##### Predictions and Recommendations \n",
    "\n",
    "- Predictions \\\n",
    "    Estimates of how much the user will like an item \\\n",
    "    얼마나 유저가 그 아이템을 좋아할지 \n",
    "    > - Often scaled to match some rating scale \n",
    "    > - Often tied to search or browsing for specific products \n",
    "    > - Pro : helps quantify item\n",
    "    > - Con : provides sth falsifiable\n",
    "    \n",
    "- Recommendations \\\n",
    "    Suggestions for items you might like (or might fit what the user is doing)\n",
    "    > - Often presented in the form of \"top-n lists\"\n",
    "    > - Pro : provides good choices as a default\n",
    "    > - con : if perceived as top-n, can result in failure to explore (\"if-it-doesnt-fall-on-the-first-page-its-done phenomenon\" people wouldnt go down the list all the way)\n",
    "    \n",
    "\n",
    "- So, how explicit is the prediction or recommendation (vs. organic) ?\n",
    "\n",
    "    * the goal is to strike a balance between explicit recommendations/predictions and softer recommendations (more general ones like here is what we think you might like just cuz many people have liked it, etc.)"
   ]
  },
  {
   "cell_type": "markdown",
   "metadata": {},
   "source": [
    "#### Taxonomy\n",
    "\n",
    "##### Domains of Recommendation\n",
    "\n",
    "- Content to Commerce and Beyond\n",
    " > - News, information, \"text\"\n",
    " > - Products, vendors, bundles\n",
    " > - Matchmaking (other people)\n",
    " > - Sequences\n",
    " \n",
    "- Other properties\n",
    " > - new items\n",
    " > - recommend old ones\n",
    " \n",
    " \n",
    " \n",
    "##### Purpose of Recommendation \n",
    " i. The recommendations themselves \\\n",
    " ii. Education \\\n",
    " iii. Building community of users"
   ]
  },
  {
   "cell_type": "markdown",
   "metadata": {},
   "source": [
    "Examples\n",
    "\n",
    "Education\n",
    "\n",
    "\n",
    "TripAdvisor\n",
    "\n",
    "\n",
    "Referral Web"
   ]
  },
  {
   "cell_type": "markdown",
   "metadata": {},
   "source": [
    "##### Recommendation Context\n",
    "\n",
    "what is the user doing at the time of recommendation?\n",
    "- shopping\n",
    "- Listening to Music\n",
    "- Hanging out with other people\n",
    "\n",
    "How does the context constrain the recommender?\n",
    "- Groups, automatic consumption, level of attention, level of interruption\n",
    "\n",
    "##### Whose opinion?\n",
    "- experts? Ordinary folks (PHOAKS - People Helping One Another Know Stuff)? People like you?"
   ]
  },
  {
   "cell_type": "markdown",
   "metadata": {},
   "source": [
    "###### Personalization Level\n",
    "\n",
    "- Generic / Non-personalized\n",
    "- Demographic\n",
    "- Ephemeral (matches current activity)\n",
    "    > people looking into this book liked these other books as well. we would recommend this to anybody who is doing this, and since you are doing this, we would like to recommend it to you\n",
    "- Persistent (matches long-term interests)\n"
   ]
  },
  {
   "cell_type": "markdown",
   "metadata": {},
   "source": [
    "##### Privacy and Trustworthiness\n",
    "\n",
    "- Who knows what about me?"
   ]
  },
  {
   "cell_type": "markdown",
   "metadata": {},
   "source": [
    "##### Interfaces\n",
    "\n",
    "- Types of Output\n",
    " > - Predictions\n",
    " > - Recommendations\n",
    " > - Filtering (search list)\n",
    " > - Organic (natural for the interaction) vs. Explicit presentation\n",
    " \n",
    "- Types of Input\n",
    " > - Explicit\n",
    " > - Implicit"
   ]
  },
  {
   "cell_type": "markdown",
   "metadata": {},
   "source": [
    "##### Recommendation Algorithms\n",
    "\n",
    "> From Abstract to the Specific\n",
    "\n",
    "\n",
    "- Users, Items, Ratings, Community"
   ]
  },
  {
   "cell_type": "markdown",
   "metadata": {},
   "source": [
    "- Non-personalized Summary Stats\n",
    "    - External Community Data\n",
    "        * best-seller, most popular, trending hot\n",
    "    - Summary of community ratings\n",
    "        * best-liked\n",
    "        \n",
    "        \n",
    "- Content-Based Filterings\n",
    "    - Build a model of user preferences against item attributes\n",
    "    > eg. ratings -> properties of movies (author, genre, actor, actress)  \\\n",
    "    > see how much of a new movie fits with the vector of these properties that have been rated\n",
    "\n",
    "- Personalized Collaborative Filtering\n",
    "    - Use opinions of others to predict/recommend\n",
    "    - User model - set of ratings / Item model - set of ratings\n",
    "    - Common core: sparse matrix of ratings.\n",
    "    > - fill in missing values (predict)\n",
    "    > - Select promising cells (recommend)\n",
    "    \n",
    "    - Techniques\n",
    "        * User-user (netflix)\n",
    "            > - elect neighborhood of similar-taste people\n",
    "            > - Use their opinions\n",
    "        * Item-item \n",
    "            > - Pre-compute similarity among items via ratings\n",
    "            > - Use own ratings to triangulate for recommendations\n",
    "        * Dimensionality reduction\n",
    "            > - Intuition: taste yields a lower-dimensionality matrix\n",
    "            > - Compress and use a taste representation"
   ]
  },
  {
   "cell_type": "markdown",
   "metadata": {},
   "source": [
    "** read up on dimensionality reduction in recommendation system"
   ]
  },
  {
   "cell_type": "markdown",
   "metadata": {},
   "source": [
    "Does not seem all that necessary to memorize all the different domains, but good to know the kind of idea/approach from which recommender systems should be designed.\n",
    "\n",
    "Ultimately seems to boil down to two main concepts - level of personalization and the intended user experience from the recommendations\n",
    "\n",
    "무엇을 추천할 것이며 (책? 영화? groceries?) - 여기서 어떤 방식으로 추천할지, 전에 본 것들? 새로운 것들?, 도 포함 됨\n",
    "\n",
    "데이터는 어떻게 수집 될 것이며 (level of personalization. implicit or explicit)\n",
    "\n",
    "어떤 모델/알고리즘을 사용할 것이며 (this in some sense also tailors to the level of personalization)\n",
    "\n",
    "결과를 어떻게 보일 것인지 (user experience) - organically? explicit? predictions? recommendations?"
   ]
  },
  {
   "cell_type": "markdown",
   "metadata": {},
   "source": [
    "#### Recommender Systems\n",
    "\n",
    "##### Manual Personalization\n",
    "\n",
    "##### Cross-sales and early product associations\n",
    "\n",
    "##### Product Search\n"
   ]
  },
  {
   "cell_type": "markdown",
   "metadata": {},
   "source": [
    "Attention was key\n",
    "Putting up the right thing on the screen at the right time"
   ]
  },
  {
   "cell_type": "markdown",
   "metadata": {},
   "source": [
    "Recommendation in context\n",
    "\n",
    "Attention\n"
   ]
  },
  {
   "cell_type": "markdown",
   "metadata": {},
   "source": [
    "Take a minute to think about why these examples are so challenging. Why is it harder to recommend along a time series (whether products like wine or education)? How much is this just a fundamental problem, and how much is just that you need lots more data (lots of people who’ve gone through every sequence? Similarly, why is it so hard to recommend surgeons in a personalized way? People trying to address these problems nearly all have to develop some sort of higher-level model of preferences (e.g., learning styles, preference models for medical care) because there is never enough data to learn those preferences from individual ratings or reactions."
   ]
  },
  {
   "cell_type": "markdown",
   "metadata": {},
   "source": [
    "** lifetime value\n",
    "\n",
    "when do we exploit what we know about you to give something more valuable\n",
    "and when do we explore more about you by serving you with stuff that we can get to know better about you so that we can serve you better later (watcha ratings)"
   ]
  },
  {
   "cell_type": "markdown",
   "metadata": {},
   "source": [
    "How much is it about directly cashing in and how much is it about getting to know you as a lifetime customer"
   ]
  },
  {
   "cell_type": "code",
   "execution_count": null,
   "metadata": {},
   "outputs": [],
   "source": []
  }
 ],
 "metadata": {
  "kernelspec": {
   "display_name": "Python 3",
   "language": "python",
   "name": "python3"
  },
  "language_info": {
   "codemirror_mode": {
    "name": "ipython",
    "version": 3
   },
   "file_extension": ".py",
   "mimetype": "text/x-python",
   "name": "python",
   "nbconvert_exporter": "python",
   "pygments_lexer": "ipython3",
   "version": "3.7.4"
  }
 },
 "nbformat": 4,
 "nbformat_minor": 2
}

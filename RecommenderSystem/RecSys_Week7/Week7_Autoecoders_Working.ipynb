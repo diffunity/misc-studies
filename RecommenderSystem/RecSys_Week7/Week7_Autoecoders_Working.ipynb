{
 "cells": [
  {
   "cell_type": "markdown",
   "metadata": {},
   "source": [
    "# Recommendation System _ Week 7\n",
    "\n",
    "### 정정호\n",
    "\n",
    "### Autoencoder and Denoising autoencoder\n",
    "\n",
    "[AutoRec: Autoencoders meet Collaborative Filtering](https://dl.acm.org/doi/pdf/10.1145/2740908.2742726) \\\n",
    "[Keras Blog (Code)](https://blog.keras.io/building-autoencoders-in-keras.html) \\\n",
    "[Training Deep autoencoders for Collaborative Filtering](https://arxiv.org/pdf/1708.01715.pdf)\n",
    "\n",
    "Reference :\n",
    "- https://github.com/lumiamitie/TIL/blob/master/python/recsys_in_python_101.md \n",
    "- 김정학 \"추천시스템 6주차.ipynb\""
   ]
  },
  {
   "cell_type": "code",
   "execution_count": 45,
   "metadata": {},
   "outputs": [],
   "source": [
    "import pandas as pd\n",
    "import numpy as np\n",
    "import matplotlib.pyplot as plt\n",
    "import seaborn as sns\n",
    "import tensorflow as tf"
   ]
  },
  {
   "cell_type": "code",
   "execution_count": 46,
   "metadata": {},
   "outputs": [
    {
     "name": "stdout",
     "output_type": "stream",
     "text": [
      "2.1.0\n"
     ]
    }
   ],
   "source": [
    "print(tf.__version__)"
   ]
  },
  {
   "cell_type": "code",
   "execution_count": 47,
   "metadata": {},
   "outputs": [],
   "source": [
    "# IGNORE this part (same as haggie)\n",
    "from sklearn.model_selection import train_test_split\n",
    "import random\n",
    "\n",
    "event_type_strength = {\n",
    "   'VIEW': 1.0,\n",
    "   'LIKE': 2.0, \n",
    "   'BOOKMARK': 2.5, \n",
    "   'FOLLOW': 3.0,\n",
    "   'COMMENT CREATED': 4.0,  \n",
    "}\n",
    "\n",
    "articles_df = (\n",
    "  pd.read_csv('./data/shared_articles.csv').loc[lambda d: d['eventType'] == 'CONTENT SHARED']  \n",
    ")\n",
    "\n",
    "interaction_df = pd.read_csv('./data/users_interactions.csv')\n",
    "interaction_df['eventStrength'] = (\n",
    "  interaction_df.loc[:, 'eventType'].apply(lambda d: event_type_strength[d])\n",
    ")\n",
    "\n",
    "\n",
    "interaction_df_over5 = (interaction_df\n",
    "  .groupby('personId', group_keys=False)\n",
    "  .apply(lambda df: df.assign(interactCnt = lambda d: d['contentId'].nunique()))\n",
    "  .loc[lambda d: d['interactCnt'] >= 5]\n",
    ")\n",
    "\n",
    "interaction_full_df = (\n",
    "  interaction_df_over5\n",
    "    .groupby(['personId', 'contentId'], as_index=False)['eventStrength']\n",
    "    .sum()\n",
    "    .assign(eventScore = lambda d: np.log2(1+d['eventStrength']))\n",
    ")\n",
    "\n",
    "interaction_train, interaction_test = train_test_split(\n",
    "    interaction_full_df,\n",
    "    stratify=interaction_full_df['personId'],\n",
    "    test_size=0.2,\n",
    "    random_state=42\n",
    ")\n",
    "\n",
    "interaction_full_indexed = interaction_full_df.set_index('personId')\n",
    "interaction_train_indexed = interaction_train.set_index('personId')\n",
    "interaction_test_indexed = interaction_test.set_index('personId')"
   ]
  },
  {
   "cell_type": "markdown",
   "metadata": {},
   "source": [
    "# Data Preprocessing"
   ]
  },
  {
   "cell_type": "code",
   "execution_count": 48,
   "metadata": {},
   "outputs": [],
   "source": [
    "articles = pd.read_csv(\"./data/shared_articles.csv\")\n",
    "user_int = pd.read_csv(\"./data/users_interactions.csv\")"
   ]
  },
  {
   "cell_type": "code",
   "execution_count": 49,
   "metadata": {},
   "outputs": [
    {
     "data": {
      "text/html": [
       "<div>\n",
       "<style scoped>\n",
       "    .dataframe tbody tr th:only-of-type {\n",
       "        vertical-align: middle;\n",
       "    }\n",
       "\n",
       "    .dataframe tbody tr th {\n",
       "        vertical-align: top;\n",
       "    }\n",
       "\n",
       "    .dataframe thead th {\n",
       "        text-align: right;\n",
       "    }\n",
       "</style>\n",
       "<table border=\"1\" class=\"dataframe\">\n",
       "  <thead>\n",
       "    <tr style=\"text-align: right;\">\n",
       "      <th></th>\n",
       "      <th>timestamp</th>\n",
       "      <th>eventType</th>\n",
       "      <th>contentId</th>\n",
       "      <th>authorPersonId</th>\n",
       "      <th>authorSessionId</th>\n",
       "      <th>authorUserAgent</th>\n",
       "      <th>authorRegion</th>\n",
       "      <th>authorCountry</th>\n",
       "      <th>contentType</th>\n",
       "      <th>url</th>\n",
       "      <th>title</th>\n",
       "      <th>text</th>\n",
       "      <th>lang</th>\n",
       "    </tr>\n",
       "  </thead>\n",
       "  <tbody>\n",
       "    <tr>\n",
       "      <th>0</th>\n",
       "      <td>1459192779</td>\n",
       "      <td>CONTENT REMOVED</td>\n",
       "      <td>-6451309518266745024</td>\n",
       "      <td>4340306774493623681</td>\n",
       "      <td>8940341205206233829</td>\n",
       "      <td>NaN</td>\n",
       "      <td>NaN</td>\n",
       "      <td>NaN</td>\n",
       "      <td>HTML</td>\n",
       "      <td>http://www.nytimes.com/2016/03/28/business/dea...</td>\n",
       "      <td>Ethereum, a Virtual Currency, Enables Transact...</td>\n",
       "      <td>All of this work is still very early. The firs...</td>\n",
       "      <td>en</td>\n",
       "    </tr>\n",
       "    <tr>\n",
       "      <th>1</th>\n",
       "      <td>1459193988</td>\n",
       "      <td>CONTENT SHARED</td>\n",
       "      <td>-4110354420726924665</td>\n",
       "      <td>4340306774493623681</td>\n",
       "      <td>8940341205206233829</td>\n",
       "      <td>NaN</td>\n",
       "      <td>NaN</td>\n",
       "      <td>NaN</td>\n",
       "      <td>HTML</td>\n",
       "      <td>http://www.nytimes.com/2016/03/28/business/dea...</td>\n",
       "      <td>Ethereum, a Virtual Currency, Enables Transact...</td>\n",
       "      <td>All of this work is still very early. The firs...</td>\n",
       "      <td>en</td>\n",
       "    </tr>\n",
       "    <tr>\n",
       "      <th>2</th>\n",
       "      <td>1459194146</td>\n",
       "      <td>CONTENT SHARED</td>\n",
       "      <td>-7292285110016212249</td>\n",
       "      <td>4340306774493623681</td>\n",
       "      <td>8940341205206233829</td>\n",
       "      <td>NaN</td>\n",
       "      <td>NaN</td>\n",
       "      <td>NaN</td>\n",
       "      <td>HTML</td>\n",
       "      <td>http://cointelegraph.com/news/bitcoin-future-w...</td>\n",
       "      <td>Bitcoin Future: When GBPcoin of Branson Wins O...</td>\n",
       "      <td>The alarm clock wakes me at 8:00 with stream o...</td>\n",
       "      <td>en</td>\n",
       "    </tr>\n",
       "    <tr>\n",
       "      <th>3</th>\n",
       "      <td>1459194474</td>\n",
       "      <td>CONTENT SHARED</td>\n",
       "      <td>-6151852268067518688</td>\n",
       "      <td>3891637997717104548</td>\n",
       "      <td>-1457532940883382585</td>\n",
       "      <td>NaN</td>\n",
       "      <td>NaN</td>\n",
       "      <td>NaN</td>\n",
       "      <td>HTML</td>\n",
       "      <td>https://cloudplatform.googleblog.com/2016/03/G...</td>\n",
       "      <td>Google Data Center 360° Tour</td>\n",
       "      <td>We're excited to share the Google Data Center ...</td>\n",
       "      <td>en</td>\n",
       "    </tr>\n",
       "    <tr>\n",
       "      <th>4</th>\n",
       "      <td>1459194497</td>\n",
       "      <td>CONTENT SHARED</td>\n",
       "      <td>2448026894306402386</td>\n",
       "      <td>4340306774493623681</td>\n",
       "      <td>8940341205206233829</td>\n",
       "      <td>NaN</td>\n",
       "      <td>NaN</td>\n",
       "      <td>NaN</td>\n",
       "      <td>HTML</td>\n",
       "      <td>https://bitcoinmagazine.com/articles/ibm-wants...</td>\n",
       "      <td>IBM Wants to \"Evolve the Internet\" With Blockc...</td>\n",
       "      <td>The Aite Group projects the blockchain market ...</td>\n",
       "      <td>en</td>\n",
       "    </tr>\n",
       "  </tbody>\n",
       "</table>\n",
       "</div>"
      ],
      "text/plain": [
       "    timestamp        eventType            contentId       authorPersonId  \\\n",
       "0  1459192779  CONTENT REMOVED -6451309518266745024  4340306774493623681   \n",
       "1  1459193988   CONTENT SHARED -4110354420726924665  4340306774493623681   \n",
       "2  1459194146   CONTENT SHARED -7292285110016212249  4340306774493623681   \n",
       "3  1459194474   CONTENT SHARED -6151852268067518688  3891637997717104548   \n",
       "4  1459194497   CONTENT SHARED  2448026894306402386  4340306774493623681   \n",
       "\n",
       "       authorSessionId authorUserAgent authorRegion authorCountry contentType  \\\n",
       "0  8940341205206233829             NaN          NaN           NaN        HTML   \n",
       "1  8940341205206233829             NaN          NaN           NaN        HTML   \n",
       "2  8940341205206233829             NaN          NaN           NaN        HTML   \n",
       "3 -1457532940883382585             NaN          NaN           NaN        HTML   \n",
       "4  8940341205206233829             NaN          NaN           NaN        HTML   \n",
       "\n",
       "                                                 url  \\\n",
       "0  http://www.nytimes.com/2016/03/28/business/dea...   \n",
       "1  http://www.nytimes.com/2016/03/28/business/dea...   \n",
       "2  http://cointelegraph.com/news/bitcoin-future-w...   \n",
       "3  https://cloudplatform.googleblog.com/2016/03/G...   \n",
       "4  https://bitcoinmagazine.com/articles/ibm-wants...   \n",
       "\n",
       "                                               title  \\\n",
       "0  Ethereum, a Virtual Currency, Enables Transact...   \n",
       "1  Ethereum, a Virtual Currency, Enables Transact...   \n",
       "2  Bitcoin Future: When GBPcoin of Branson Wins O...   \n",
       "3                       Google Data Center 360° Tour   \n",
       "4  IBM Wants to \"Evolve the Internet\" With Blockc...   \n",
       "\n",
       "                                                text lang  \n",
       "0  All of this work is still very early. The firs...   en  \n",
       "1  All of this work is still very early. The firs...   en  \n",
       "2  The alarm clock wakes me at 8:00 with stream o...   en  \n",
       "3  We're excited to share the Google Data Center ...   en  \n",
       "4  The Aite Group projects the blockchain market ...   en  "
      ]
     },
     "execution_count": 49,
     "metadata": {},
     "output_type": "execute_result"
    }
   ],
   "source": [
    "articles.head()"
   ]
  },
  {
   "cell_type": "code",
   "execution_count": 50,
   "metadata": {
    "scrolled": false
   },
   "outputs": [
    {
     "data": {
      "text/html": [
       "<div>\n",
       "<style scoped>\n",
       "    .dataframe tbody tr th:only-of-type {\n",
       "        vertical-align: middle;\n",
       "    }\n",
       "\n",
       "    .dataframe tbody tr th {\n",
       "        vertical-align: top;\n",
       "    }\n",
       "\n",
       "    .dataframe thead th {\n",
       "        text-align: right;\n",
       "    }\n",
       "</style>\n",
       "<table border=\"1\" class=\"dataframe\">\n",
       "  <thead>\n",
       "    <tr style=\"text-align: right;\">\n",
       "      <th></th>\n",
       "      <th>timestamp</th>\n",
       "      <th>eventType</th>\n",
       "      <th>contentId</th>\n",
       "      <th>personId</th>\n",
       "      <th>sessionId</th>\n",
       "      <th>userAgent</th>\n",
       "      <th>userRegion</th>\n",
       "      <th>userCountry</th>\n",
       "    </tr>\n",
       "  </thead>\n",
       "  <tbody>\n",
       "    <tr>\n",
       "      <th>0</th>\n",
       "      <td>1465413032</td>\n",
       "      <td>VIEW</td>\n",
       "      <td>-3499919498720038879</td>\n",
       "      <td>-8845298781299428018</td>\n",
       "      <td>1264196770339959068</td>\n",
       "      <td>NaN</td>\n",
       "      <td>NaN</td>\n",
       "      <td>NaN</td>\n",
       "    </tr>\n",
       "    <tr>\n",
       "      <th>1</th>\n",
       "      <td>1465412560</td>\n",
       "      <td>VIEW</td>\n",
       "      <td>8890720798209849691</td>\n",
       "      <td>-1032019229384696495</td>\n",
       "      <td>3621737643587579081</td>\n",
       "      <td>Mozilla/5.0 (Macintosh; Intel Mac OS X 10_11_2...</td>\n",
       "      <td>NY</td>\n",
       "      <td>US</td>\n",
       "    </tr>\n",
       "    <tr>\n",
       "      <th>2</th>\n",
       "      <td>1465416190</td>\n",
       "      <td>VIEW</td>\n",
       "      <td>310515487419366995</td>\n",
       "      <td>-1130272294246983140</td>\n",
       "      <td>2631864456530402479</td>\n",
       "      <td>NaN</td>\n",
       "      <td>NaN</td>\n",
       "      <td>NaN</td>\n",
       "    </tr>\n",
       "    <tr>\n",
       "      <th>3</th>\n",
       "      <td>1465413895</td>\n",
       "      <td>FOLLOW</td>\n",
       "      <td>310515487419366995</td>\n",
       "      <td>344280948527967603</td>\n",
       "      <td>-3167637573980064150</td>\n",
       "      <td>NaN</td>\n",
       "      <td>NaN</td>\n",
       "      <td>NaN</td>\n",
       "    </tr>\n",
       "    <tr>\n",
       "      <th>4</th>\n",
       "      <td>1465412290</td>\n",
       "      <td>VIEW</td>\n",
       "      <td>-7820640624231356730</td>\n",
       "      <td>-445337111692715325</td>\n",
       "      <td>5611481178424124714</td>\n",
       "      <td>NaN</td>\n",
       "      <td>NaN</td>\n",
       "      <td>NaN</td>\n",
       "    </tr>\n",
       "  </tbody>\n",
       "</table>\n",
       "</div>"
      ],
      "text/plain": [
       "    timestamp eventType            contentId             personId  \\\n",
       "0  1465413032      VIEW -3499919498720038879 -8845298781299428018   \n",
       "1  1465412560      VIEW  8890720798209849691 -1032019229384696495   \n",
       "2  1465416190      VIEW   310515487419366995 -1130272294246983140   \n",
       "3  1465413895    FOLLOW   310515487419366995   344280948527967603   \n",
       "4  1465412290      VIEW -7820640624231356730  -445337111692715325   \n",
       "\n",
       "             sessionId                                          userAgent  \\\n",
       "0  1264196770339959068                                                NaN   \n",
       "1  3621737643587579081  Mozilla/5.0 (Macintosh; Intel Mac OS X 10_11_2...   \n",
       "2  2631864456530402479                                                NaN   \n",
       "3 -3167637573980064150                                                NaN   \n",
       "4  5611481178424124714                                                NaN   \n",
       "\n",
       "  userRegion userCountry  \n",
       "0        NaN         NaN  \n",
       "1         NY          US  \n",
       "2        NaN         NaN  \n",
       "3        NaN         NaN  \n",
       "4        NaN         NaN  "
      ]
     },
     "execution_count": 50,
     "metadata": {},
     "output_type": "execute_result"
    }
   ],
   "source": [
    "user_int.head()"
   ]
  },
  {
   "cell_type": "markdown",
   "metadata": {},
   "source": [
    "#### Columns to be used for CF in users_interaction.csv: [eventType, contentId, personId]"
   ]
  },
  {
   "cell_type": "code",
   "execution_count": 51,
   "metadata": {},
   "outputs": [],
   "source": [
    "users = user_int[[\"eventType\",\"contentId\",\"personId\"]].copy()"
   ]
  },
  {
   "cell_type": "code",
   "execution_count": 52,
   "metadata": {
    "scrolled": true
   },
   "outputs": [
    {
     "data": {
      "text/html": [
       "<div>\n",
       "<style scoped>\n",
       "    .dataframe tbody tr th:only-of-type {\n",
       "        vertical-align: middle;\n",
       "    }\n",
       "\n",
       "    .dataframe tbody tr th {\n",
       "        vertical-align: top;\n",
       "    }\n",
       "\n",
       "    .dataframe thead th {\n",
       "        text-align: right;\n",
       "    }\n",
       "</style>\n",
       "<table border=\"1\" class=\"dataframe\">\n",
       "  <thead>\n",
       "    <tr style=\"text-align: right;\">\n",
       "      <th></th>\n",
       "      <th>eventType</th>\n",
       "      <th>contentId</th>\n",
       "      <th>personId</th>\n",
       "    </tr>\n",
       "  </thead>\n",
       "  <tbody>\n",
       "    <tr>\n",
       "      <th>0</th>\n",
       "      <td>VIEW</td>\n",
       "      <td>-3499919498720038879</td>\n",
       "      <td>-8845298781299428018</td>\n",
       "    </tr>\n",
       "    <tr>\n",
       "      <th>1</th>\n",
       "      <td>VIEW</td>\n",
       "      <td>8890720798209849691</td>\n",
       "      <td>-1032019229384696495</td>\n",
       "    </tr>\n",
       "    <tr>\n",
       "      <th>2</th>\n",
       "      <td>VIEW</td>\n",
       "      <td>310515487419366995</td>\n",
       "      <td>-1130272294246983140</td>\n",
       "    </tr>\n",
       "    <tr>\n",
       "      <th>3</th>\n",
       "      <td>FOLLOW</td>\n",
       "      <td>310515487419366995</td>\n",
       "      <td>344280948527967603</td>\n",
       "    </tr>\n",
       "    <tr>\n",
       "      <th>4</th>\n",
       "      <td>VIEW</td>\n",
       "      <td>-7820640624231356730</td>\n",
       "      <td>-445337111692715325</td>\n",
       "    </tr>\n",
       "  </tbody>\n",
       "</table>\n",
       "</div>"
      ],
      "text/plain": [
       "  eventType            contentId             personId\n",
       "0      VIEW -3499919498720038879 -8845298781299428018\n",
       "1      VIEW  8890720798209849691 -1032019229384696495\n",
       "2      VIEW   310515487419366995 -1130272294246983140\n",
       "3    FOLLOW   310515487419366995   344280948527967603\n",
       "4      VIEW -7820640624231356730  -445337111692715325"
      ]
     },
     "execution_count": 52,
     "metadata": {},
     "output_type": "execute_result"
    }
   ],
   "source": [
    "users.head()"
   ]
  },
  {
   "cell_type": "markdown",
   "metadata": {},
   "source": [
    "#### New column \"interaction\" containing eventType data converted to corresponding weights"
   ]
  },
  {
   "cell_type": "code",
   "execution_count": 53,
   "metadata": {},
   "outputs": [
    {
     "data": {
      "text/html": [
       "<div>\n",
       "<style scoped>\n",
       "    .dataframe tbody tr th:only-of-type {\n",
       "        vertical-align: middle;\n",
       "    }\n",
       "\n",
       "    .dataframe tbody tr th {\n",
       "        vertical-align: top;\n",
       "    }\n",
       "\n",
       "    .dataframe thead th {\n",
       "        text-align: right;\n",
       "    }\n",
       "</style>\n",
       "<table border=\"1\" class=\"dataframe\">\n",
       "  <thead>\n",
       "    <tr style=\"text-align: right;\">\n",
       "      <th></th>\n",
       "      <th>eventType</th>\n",
       "      <th>contentId</th>\n",
       "      <th>personId</th>\n",
       "      <th>interaction</th>\n",
       "    </tr>\n",
       "  </thead>\n",
       "  <tbody>\n",
       "    <tr>\n",
       "      <th>0</th>\n",
       "      <td>VIEW</td>\n",
       "      <td>-3499919498720038879</td>\n",
       "      <td>-8845298781299428018</td>\n",
       "      <td>1.0</td>\n",
       "    </tr>\n",
       "    <tr>\n",
       "      <th>1</th>\n",
       "      <td>VIEW</td>\n",
       "      <td>8890720798209849691</td>\n",
       "      <td>-1032019229384696495</td>\n",
       "      <td>1.0</td>\n",
       "    </tr>\n",
       "    <tr>\n",
       "      <th>2</th>\n",
       "      <td>VIEW</td>\n",
       "      <td>310515487419366995</td>\n",
       "      <td>-1130272294246983140</td>\n",
       "      <td>1.0</td>\n",
       "    </tr>\n",
       "    <tr>\n",
       "      <th>3</th>\n",
       "      <td>FOLLOW</td>\n",
       "      <td>310515487419366995</td>\n",
       "      <td>344280948527967603</td>\n",
       "      <td>3.0</td>\n",
       "    </tr>\n",
       "    <tr>\n",
       "      <th>4</th>\n",
       "      <td>VIEW</td>\n",
       "      <td>-7820640624231356730</td>\n",
       "      <td>-445337111692715325</td>\n",
       "      <td>1.0</td>\n",
       "    </tr>\n",
       "    <tr>\n",
       "      <th>...</th>\n",
       "      <td>...</td>\n",
       "      <td>...</td>\n",
       "      <td>...</td>\n",
       "      <td>...</td>\n",
       "    </tr>\n",
       "    <tr>\n",
       "      <th>72307</th>\n",
       "      <td>LIKE</td>\n",
       "      <td>-6590819806697898649</td>\n",
       "      <td>-9016528795238256703</td>\n",
       "      <td>2.0</td>\n",
       "    </tr>\n",
       "    <tr>\n",
       "      <th>72308</th>\n",
       "      <td>VIEW</td>\n",
       "      <td>-5813211845057621660</td>\n",
       "      <td>102305705598210278</td>\n",
       "      <td>1.0</td>\n",
       "    </tr>\n",
       "    <tr>\n",
       "      <th>72309</th>\n",
       "      <td>VIEW</td>\n",
       "      <td>-1999468346928419252</td>\n",
       "      <td>-9196668942822132778</td>\n",
       "      <td>1.0</td>\n",
       "    </tr>\n",
       "    <tr>\n",
       "      <th>72310</th>\n",
       "      <td>VIEW</td>\n",
       "      <td>-6590819806697898649</td>\n",
       "      <td>-9016528795238256703</td>\n",
       "      <td>1.0</td>\n",
       "    </tr>\n",
       "    <tr>\n",
       "      <th>72311</th>\n",
       "      <td>VIEW</td>\n",
       "      <td>5669290109546991426</td>\n",
       "      <td>5713241217519616260</td>\n",
       "      <td>1.0</td>\n",
       "    </tr>\n",
       "  </tbody>\n",
       "</table>\n",
       "<p>72312 rows × 4 columns</p>\n",
       "</div>"
      ],
      "text/plain": [
       "      eventType            contentId             personId  interaction\n",
       "0          VIEW -3499919498720038879 -8845298781299428018          1.0\n",
       "1          VIEW  8890720798209849691 -1032019229384696495          1.0\n",
       "2          VIEW   310515487419366995 -1130272294246983140          1.0\n",
       "3        FOLLOW   310515487419366995   344280948527967603          3.0\n",
       "4          VIEW -7820640624231356730  -445337111692715325          1.0\n",
       "...         ...                  ...                  ...          ...\n",
       "72307      LIKE -6590819806697898649 -9016528795238256703          2.0\n",
       "72308      VIEW -5813211845057621660   102305705598210278          1.0\n",
       "72309      VIEW -1999468346928419252 -9196668942822132778          1.0\n",
       "72310      VIEW -6590819806697898649 -9016528795238256703          1.0\n",
       "72311      VIEW  5669290109546991426  5713241217519616260          1.0\n",
       "\n",
       "[72312 rows x 4 columns]"
      ]
     },
     "execution_count": 53,
     "metadata": {},
     "output_type": "execute_result"
    }
   ],
   "source": [
    "users['interaction'] = (\n",
    "  users.loc[:, 'eventType'].apply(lambda d: event_type_strength[d])\n",
    ")\n",
    "\n",
    "users"
   ]
  },
  {
   "cell_type": "code",
   "execution_count": 54,
   "metadata": {},
   "outputs": [
    {
     "data": {
      "text/html": [
       "<div>\n",
       "<style scoped>\n",
       "    .dataframe tbody tr th:only-of-type {\n",
       "        vertical-align: middle;\n",
       "    }\n",
       "\n",
       "    .dataframe tbody tr th {\n",
       "        vertical-align: top;\n",
       "    }\n",
       "\n",
       "    .dataframe thead th {\n",
       "        text-align: right;\n",
       "    }\n",
       "</style>\n",
       "<table border=\"1\" class=\"dataframe\">\n",
       "  <thead>\n",
       "    <tr style=\"text-align: right;\">\n",
       "      <th></th>\n",
       "      <th>personId</th>\n",
       "      <th>contentId</th>\n",
       "      <th>interaction</th>\n",
       "      <th>eventScore</th>\n",
       "    </tr>\n",
       "  </thead>\n",
       "  <tbody>\n",
       "    <tr>\n",
       "      <th>0</th>\n",
       "      <td>-9223121837663643404</td>\n",
       "      <td>-8949113594875411859</td>\n",
       "      <td>1.0</td>\n",
       "      <td>1.000000</td>\n",
       "    </tr>\n",
       "    <tr>\n",
       "      <th>1</th>\n",
       "      <td>-9223121837663643404</td>\n",
       "      <td>-8377626164558006982</td>\n",
       "      <td>1.0</td>\n",
       "      <td>1.000000</td>\n",
       "    </tr>\n",
       "    <tr>\n",
       "      <th>2</th>\n",
       "      <td>-9223121837663643404</td>\n",
       "      <td>-8208801367848627943</td>\n",
       "      <td>1.0</td>\n",
       "      <td>1.000000</td>\n",
       "    </tr>\n",
       "    <tr>\n",
       "      <th>3</th>\n",
       "      <td>-9223121837663643404</td>\n",
       "      <td>-8187220755213888616</td>\n",
       "      <td>1.0</td>\n",
       "      <td>1.000000</td>\n",
       "    </tr>\n",
       "    <tr>\n",
       "      <th>4</th>\n",
       "      <td>-9223121837663643404</td>\n",
       "      <td>-7423191370472335463</td>\n",
       "      <td>8.0</td>\n",
       "      <td>3.169925</td>\n",
       "    </tr>\n",
       "  </tbody>\n",
       "</table>\n",
       "</div>"
      ],
      "text/plain": [
       "              personId            contentId  interaction  eventScore\n",
       "0 -9223121837663643404 -8949113594875411859          1.0    1.000000\n",
       "1 -9223121837663643404 -8377626164558006982          1.0    1.000000\n",
       "2 -9223121837663643404 -8208801367848627943          1.0    1.000000\n",
       "3 -9223121837663643404 -8187220755213888616          1.0    1.000000\n",
       "4 -9223121837663643404 -7423191370472335463          8.0    3.169925"
      ]
     },
     "execution_count": 54,
     "metadata": {},
     "output_type": "execute_result"
    }
   ],
   "source": [
    "users = (users\n",
    "  .groupby('personId', group_keys=False)\n",
    "  .apply(lambda df: df.assign(interactCnt = lambda d: d['contentId'].nunique()))\n",
    "  .loc[lambda d: d['interactCnt'] >= 5]\n",
    ")\n",
    "\n",
    "users = (\n",
    "  users\n",
    "    .groupby(['personId', 'contentId'], as_index=False)['interaction']\n",
    "    .sum()\n",
    "    .assign(eventScore = lambda d: np.log2(1+d['interaction']))\n",
    ")\n",
    "\n",
    "users.head()"
   ]
  },
  {
   "cell_type": "code",
   "execution_count": 55,
   "metadata": {
    "scrolled": true
   },
   "outputs": [
    {
     "data": {
      "text/html": [
       "<div>\n",
       "<style scoped>\n",
       "    .dataframe tbody tr th:only-of-type {\n",
       "        vertical-align: middle;\n",
       "    }\n",
       "\n",
       "    .dataframe tbody tr th {\n",
       "        vertical-align: top;\n",
       "    }\n",
       "\n",
       "    .dataframe thead th {\n",
       "        text-align: right;\n",
       "    }\n",
       "</style>\n",
       "<table border=\"1\" class=\"dataframe\">\n",
       "  <thead>\n",
       "    <tr style=\"text-align: right;\">\n",
       "      <th></th>\n",
       "      <th>personId</th>\n",
       "      <th>contentId</th>\n",
       "      <th>interaction</th>\n",
       "      <th>eventScore</th>\n",
       "    </tr>\n",
       "  </thead>\n",
       "  <tbody>\n",
       "    <tr>\n",
       "      <th>count</th>\n",
       "      <td>3.910600e+04</td>\n",
       "      <td>3.910600e+04</td>\n",
       "      <td>39106.000000</td>\n",
       "      <td>39106.000000</td>\n",
       "    </tr>\n",
       "    <tr>\n",
       "      <th>mean</th>\n",
       "      <td>-3.550552e+16</td>\n",
       "      <td>-4.828865e+16</td>\n",
       "      <td>2.214954</td>\n",
       "      <td>1.464719</td>\n",
       "    </tr>\n",
       "    <tr>\n",
       "      <th>std</th>\n",
       "      <td>5.107185e+18</td>\n",
       "      <td>5.373235e+18</td>\n",
       "      <td>2.834373</td>\n",
       "      <td>0.686355</td>\n",
       "    </tr>\n",
       "    <tr>\n",
       "      <th>min</th>\n",
       "      <td>-9.223122e+18</td>\n",
       "      <td>-9.222795e+18</td>\n",
       "      <td>1.000000</td>\n",
       "      <td>1.000000</td>\n",
       "    </tr>\n",
       "    <tr>\n",
       "      <th>25%</th>\n",
       "      <td>-3.954277e+18</td>\n",
       "      <td>-4.754224e+18</td>\n",
       "      <td>1.000000</td>\n",
       "      <td>1.000000</td>\n",
       "    </tr>\n",
       "    <tr>\n",
       "      <th>50%</th>\n",
       "      <td>-7.450732e+16</td>\n",
       "      <td>-5.924996e+15</td>\n",
       "      <td>1.000000</td>\n",
       "      <td>1.000000</td>\n",
       "    </tr>\n",
       "    <tr>\n",
       "      <th>75%</th>\n",
       "      <td>3.829785e+18</td>\n",
       "      <td>4.562045e+18</td>\n",
       "      <td>2.000000</td>\n",
       "      <td>1.584963</td>\n",
       "    </tr>\n",
       "    <tr>\n",
       "      <th>max</th>\n",
       "      <td>9.210531e+18</td>\n",
       "      <td>9.222265e+18</td>\n",
       "      <td>230.000000</td>\n",
       "      <td>7.851749</td>\n",
       "    </tr>\n",
       "  </tbody>\n",
       "</table>\n",
       "</div>"
      ],
      "text/plain": [
       "           personId     contentId   interaction    eventScore\n",
       "count  3.910600e+04  3.910600e+04  39106.000000  39106.000000\n",
       "mean  -3.550552e+16 -4.828865e+16      2.214954      1.464719\n",
       "std    5.107185e+18  5.373235e+18      2.834373      0.686355\n",
       "min   -9.223122e+18 -9.222795e+18      1.000000      1.000000\n",
       "25%   -3.954277e+18 -4.754224e+18      1.000000      1.000000\n",
       "50%   -7.450732e+16 -5.924996e+15      1.000000      1.000000\n",
       "75%    3.829785e+18  4.562045e+18      2.000000      1.584963\n",
       "max    9.210531e+18  9.222265e+18    230.000000      7.851749"
      ]
     },
     "execution_count": 55,
     "metadata": {},
     "output_type": "execute_result"
    }
   ],
   "source": [
    "users.describe()"
   ]
  },
  {
   "cell_type": "code",
   "execution_count": 56,
   "metadata": {
    "scrolled": false
   },
   "outputs": [
    {
     "data": {
      "image/png": "[encoded data removed]",
      "text/plain": [
       "<Figure size 432x288 with 1 Axes>"
      ]
     },
     "metadata": {
      "needs_background": "light"
     },
     "output_type": "display_data"
    },
    {
     "data": {
      "image/png": "[encoded data removed]",
      "text/plain": [
       "<Figure size 432x288 with 1 Axes>"
      ]
     },
     "metadata": {
      "needs_background": "light"
     },
     "output_type": "display_data"
    }
   ],
   "source": [
    "sns.distplot(users[\"interaction\"])\n",
    "plt.show()\n",
    "\n",
    "sns.distplot(users[\"eventScore\"])\n",
    "plt.show()"
   ]
  },
  {
   "cell_type": "code",
   "execution_count": 57,
   "metadata": {},
   "outputs": [],
   "source": [
    "# Map personId and contentId into more readable format\n",
    "from sklearn.preprocessing import LabelEncoder\n",
    "# access original personId by user_enc[encoded_label] (eg. user_enc.classes_[userId_enc] == users[\"personId\"])\n",
    "\n",
    "user_enc = LabelEncoder()\n",
    "user_enc.fit(users[\"personId\"])\n",
    "userId_enc = user_enc.transform(users[\"personId\"])\n",
    "\n",
    "item_enc = LabelEncoder()\n",
    "item_enc.fit(users[\"contentId\"])\n",
    "itemId_enc = item_enc.transform(users[\"contentId\"])"
   ]
  },
  {
   "cell_type": "code",
   "execution_count": 58,
   "metadata": {},
   "outputs": [],
   "source": [
    "users_data_enc = pd.concat([pd.Series(userId_enc), pd.Series(itemId_enc), users[\"eventScore\"]], axis = 1)\n",
    "users_data_enc.columns = [\"userId\",\"itemId\",\"interaction\"]"
   ]
  },
  {
   "cell_type": "markdown",
   "metadata": {},
   "source": [
    "#### Make a user-item interaction matrix"
   ]
  },
  {
   "cell_type": "code",
   "execution_count": 59,
   "metadata": {},
   "outputs": [],
   "source": [
    "interaction_matrix = users_data_enc.pivot(index = 'userId', columns = 'itemId', values = \"interaction\")"
   ]
  },
  {
   "cell_type": "code",
   "execution_count": 60,
   "metadata": {},
   "outputs": [
    {
     "data": {
      "text/html": [
       "<div>\n",
       "<style scoped>\n",
       "    .dataframe tbody tr th:only-of-type {\n",
       "        vertical-align: middle;\n",
       "    }\n",
       "\n",
       "    .dataframe tbody tr th {\n",
       "        vertical-align: top;\n",
       "    }\n",
       "\n",
       "    .dataframe thead th {\n",
       "        text-align: right;\n",
       "    }\n",
       "</style>\n",
       "<table border=\"1\" class=\"dataframe\">\n",
       "  <thead>\n",
       "    <tr style=\"text-align: right;\">\n",
       "      <th>itemId</th>\n",
       "      <th>0</th>\n",
       "      <th>1</th>\n",
       "      <th>2</th>\n",
       "      <th>3</th>\n",
       "      <th>4</th>\n",
       "      <th>5</th>\n",
       "      <th>6</th>\n",
       "      <th>7</th>\n",
       "      <th>8</th>\n",
       "      <th>9</th>\n",
       "      <th>...</th>\n",
       "      <th>2974</th>\n",
       "      <th>2975</th>\n",
       "      <th>2976</th>\n",
       "      <th>2977</th>\n",
       "      <th>2978</th>\n",
       "      <th>2979</th>\n",
       "      <th>2980</th>\n",
       "      <th>2981</th>\n",
       "      <th>2982</th>\n",
       "      <th>2983</th>\n",
       "    </tr>\n",
       "    <tr>\n",
       "      <th>userId</th>\n",
       "      <th></th>\n",
       "      <th></th>\n",
       "      <th></th>\n",
       "      <th></th>\n",
       "      <th></th>\n",
       "      <th></th>\n",
       "      <th></th>\n",
       "      <th></th>\n",
       "      <th></th>\n",
       "      <th></th>\n",
       "      <th></th>\n",
       "      <th></th>\n",
       "      <th></th>\n",
       "      <th></th>\n",
       "      <th></th>\n",
       "      <th></th>\n",
       "      <th></th>\n",
       "      <th></th>\n",
       "      <th></th>\n",
       "      <th></th>\n",
       "      <th></th>\n",
       "    </tr>\n",
       "  </thead>\n",
       "  <tbody>\n",
       "    <tr>\n",
       "      <th>0</th>\n",
       "      <td>NaN</td>\n",
       "      <td>NaN</td>\n",
       "      <td>NaN</td>\n",
       "      <td>NaN</td>\n",
       "      <td>NaN</td>\n",
       "      <td>NaN</td>\n",
       "      <td>NaN</td>\n",
       "      <td>NaN</td>\n",
       "      <td>NaN</td>\n",
       "      <td>NaN</td>\n",
       "      <td>...</td>\n",
       "      <td>NaN</td>\n",
       "      <td>NaN</td>\n",
       "      <td>NaN</td>\n",
       "      <td>NaN</td>\n",
       "      <td>NaN</td>\n",
       "      <td>NaN</td>\n",
       "      <td>NaN</td>\n",
       "      <td>NaN</td>\n",
       "      <td>NaN</td>\n",
       "      <td>NaN</td>\n",
       "    </tr>\n",
       "    <tr>\n",
       "      <th>1</th>\n",
       "      <td>NaN</td>\n",
       "      <td>NaN</td>\n",
       "      <td>NaN</td>\n",
       "      <td>NaN</td>\n",
       "      <td>NaN</td>\n",
       "      <td>NaN</td>\n",
       "      <td>NaN</td>\n",
       "      <td>NaN</td>\n",
       "      <td>NaN</td>\n",
       "      <td>NaN</td>\n",
       "      <td>...</td>\n",
       "      <td>NaN</td>\n",
       "      <td>NaN</td>\n",
       "      <td>NaN</td>\n",
       "      <td>NaN</td>\n",
       "      <td>NaN</td>\n",
       "      <td>NaN</td>\n",
       "      <td>NaN</td>\n",
       "      <td>NaN</td>\n",
       "      <td>NaN</td>\n",
       "      <td>NaN</td>\n",
       "    </tr>\n",
       "    <tr>\n",
       "      <th>2</th>\n",
       "      <td>NaN</td>\n",
       "      <td>2.0</td>\n",
       "      <td>NaN</td>\n",
       "      <td>NaN</td>\n",
       "      <td>NaN</td>\n",
       "      <td>NaN</td>\n",
       "      <td>NaN</td>\n",
       "      <td>NaN</td>\n",
       "      <td>NaN</td>\n",
       "      <td>NaN</td>\n",
       "      <td>...</td>\n",
       "      <td>NaN</td>\n",
       "      <td>NaN</td>\n",
       "      <td>NaN</td>\n",
       "      <td>NaN</td>\n",
       "      <td>NaN</td>\n",
       "      <td>NaN</td>\n",
       "      <td>NaN</td>\n",
       "      <td>NaN</td>\n",
       "      <td>NaN</td>\n",
       "      <td>NaN</td>\n",
       "    </tr>\n",
       "    <tr>\n",
       "      <th>3</th>\n",
       "      <td>NaN</td>\n",
       "      <td>NaN</td>\n",
       "      <td>NaN</td>\n",
       "      <td>NaN</td>\n",
       "      <td>NaN</td>\n",
       "      <td>NaN</td>\n",
       "      <td>NaN</td>\n",
       "      <td>NaN</td>\n",
       "      <td>NaN</td>\n",
       "      <td>NaN</td>\n",
       "      <td>...</td>\n",
       "      <td>NaN</td>\n",
       "      <td>NaN</td>\n",
       "      <td>NaN</td>\n",
       "      <td>NaN</td>\n",
       "      <td>NaN</td>\n",
       "      <td>NaN</td>\n",
       "      <td>NaN</td>\n",
       "      <td>NaN</td>\n",
       "      <td>NaN</td>\n",
       "      <td>NaN</td>\n",
       "    </tr>\n",
       "    <tr>\n",
       "      <th>4</th>\n",
       "      <td>NaN</td>\n",
       "      <td>NaN</td>\n",
       "      <td>NaN</td>\n",
       "      <td>NaN</td>\n",
       "      <td>NaN</td>\n",
       "      <td>NaN</td>\n",
       "      <td>NaN</td>\n",
       "      <td>NaN</td>\n",
       "      <td>NaN</td>\n",
       "      <td>NaN</td>\n",
       "      <td>...</td>\n",
       "      <td>NaN</td>\n",
       "      <td>NaN</td>\n",
       "      <td>NaN</td>\n",
       "      <td>NaN</td>\n",
       "      <td>NaN</td>\n",
       "      <td>NaN</td>\n",
       "      <td>NaN</td>\n",
       "      <td>NaN</td>\n",
       "      <td>NaN</td>\n",
       "      <td>NaN</td>\n",
       "    </tr>\n",
       "  </tbody>\n",
       "</table>\n",
       "<p>5 rows × 2984 columns</p>\n",
       "</div>"
      ],
      "text/plain": [
       "itemId  0     1     2     3     4     5     6     7     8     9     ...  2974  \\\n",
       "userId                                                              ...         \n",
       "0        NaN   NaN   NaN   NaN   NaN   NaN   NaN   NaN   NaN   NaN  ...   NaN   \n",
       "1        NaN   NaN   NaN   NaN   NaN   NaN   NaN   NaN   NaN   NaN  ...   NaN   \n",
       "2        NaN   2.0   NaN   NaN   NaN   NaN   NaN   NaN   NaN   NaN  ...   NaN   \n",
       "3        NaN   NaN   NaN   NaN   NaN   NaN   NaN   NaN   NaN   NaN  ...   NaN   \n",
       "4        NaN   NaN   NaN   NaN   NaN   NaN   NaN   NaN   NaN   NaN  ...   NaN   \n",
       "\n",
       "itemId  2975  2976  2977  2978  2979  2980  2981  2982  2983  \n",
       "userId                                                        \n",
       "0        NaN   NaN   NaN   NaN   NaN   NaN   NaN   NaN   NaN  \n",
       "1        NaN   NaN   NaN   NaN   NaN   NaN   NaN   NaN   NaN  \n",
       "2        NaN   NaN   NaN   NaN   NaN   NaN   NaN   NaN   NaN  \n",
       "3        NaN   NaN   NaN   NaN   NaN   NaN   NaN   NaN   NaN  \n",
       "4        NaN   NaN   NaN   NaN   NaN   NaN   NaN   NaN   NaN  \n",
       "\n",
       "[5 rows x 2984 columns]"
      ]
     },
     "execution_count": 60,
     "metadata": {},
     "output_type": "execute_result"
    }
   ],
   "source": [
    "interaction_matrix.head()"
   ]
  },
  {
   "cell_type": "code",
   "execution_count": 61,
   "metadata": {},
   "outputs": [
    {
     "data": {
      "text/plain": [
       "(1140, 2984)"
      ]
     },
     "execution_count": 61,
     "metadata": {},
     "output_type": "execute_result"
    }
   ],
   "source": [
    "interaction_matrix.shape"
   ]
  },
  {
   "cell_type": "code",
   "execution_count": 62,
   "metadata": {},
   "outputs": [
    {
     "name": "stdout",
     "output_type": "stream",
     "text": [
      "Sparsity:  0.9885041860683881\n"
     ]
    }
   ],
   "source": [
    "# Sparsity\n",
    "\n",
    "print(\"Sparsity: \", interaction_matrix.isnull().sum().sum() / (interaction_matrix.size) )"
   ]
  },
  {
   "cell_type": "code",
   "execution_count": 63,
   "metadata": {},
   "outputs": [],
   "source": [
    "from sklearn.preprocessing import Normalizer\n",
    "IMdata = Normalizer().fit_transform(interaction_matrix.fillna(0))"
   ]
  },
  {
   "cell_type": "code",
   "execution_count": 64,
   "metadata": {},
   "outputs": [
    {
     "data": {
      "image/png": "[encoded data removed]",
      "text/plain": [
       "<Figure size 432x288 with 1 Axes>"
      ]
     },
     "metadata": {
      "needs_background": "light"
     },
     "output_type": "display_data"
    }
   ],
   "source": [
    "sns.distplot(interaction_matrix.fillna(0)[interaction_matrix.fillna(0)!=0])\n",
    "plt.show()"
   ]
  },
  {
   "cell_type": "code",
   "execution_count": 65,
   "metadata": {},
   "outputs": [
    {
     "data": {
      "image/png": "[encoded data removed]",
      "text/plain": [
       "<Figure size 432x288 with 1 Axes>"
      ]
     },
     "metadata": {
      "needs_background": "light"
     },
     "output_type": "display_data"
    }
   ],
   "source": [
    "sns.distplot(IMdata[IMdata!=0])\n",
    "plt.show()"
   ]
  },
  {
   "cell_type": "markdown",
   "metadata": {},
   "source": [
    "# Model Evaluator"
   ]
  },
  {
   "cell_type": "code",
   "execution_count": 66,
   "metadata": {},
   "outputs": [],
   "source": [
    "def get_items_interacted(person_id, interaction_df):\n",
    "    interated_items = interaction_df.loc[person_id]['contentId']\n",
    "    # else below here is for single value\n",
    "    return set(interated_items if type(interated_items) == pd.Series else [interated_items])"
   ]
  },
  {
   "cell_type": "code",
   "execution_count": 67,
   "metadata": {},
   "outputs": [],
   "source": [
    "class ModelEvaluator:\n",
    "    def __init__(self, n_non_interacted=100):\n",
    "        \n",
    "        # get 100 non interacted\n",
    "        \n",
    "        self.EVAL_RANDOM_SAMPLE_NON_INTERACTED_ITEMS = n_non_interacted\n",
    "        \n",
    "    def get_non_interacted_items_sample(self, person_id, sample_size, seed=42):\n",
    "        \n",
    "        # on the whole data  \"full\"\n",
    "        \n",
    "        interacted_items = get_items_interacted(person_id, interaction_full_indexed)\n",
    "        all_items = set(articles_df['contentId'])\n",
    "        \n",
    "        non_interacted_items = all_items - interacted_items\n",
    "        \n",
    "        random.seed(seed)\n",
    "        non_interacted_items_sample = random.sample(non_interacted_items, sample_size)\n",
    "        \n",
    "        # get non interacted sample (sample_size)\n",
    "        \n",
    "        return set(non_interacted_items_sample)\n",
    "        \n",
    "    def _verify_hit_top_n(self, item_id, recommend_items, topn):\n",
    "\n",
    "        try:\n",
    "            index = next(i for i, c in enumerate(recommend_items) if c == item_id)\n",
    "        except:\n",
    "            index = -1\n",
    "            \n",
    "        hit = int(index in range(0, topn))\n",
    "        return hit, index\n",
    "    \n",
    "    def evaluate_model_for_user(self, model, person_id):\n",
    "        interacted_values_testset = interaction_test_indexed.loc[person_id]\n",
    "        \n",
    "        if type(interacted_values_testset['contentId']) == pd.Series:\n",
    "            person_interacted_items_testset = set(interacted_values_testset['contentId'])\n",
    "        else:\n",
    "            # for single value\n",
    "            person_interacted_items_testset = set([int(interacted_values_testset['contentId'])])\n",
    "        \n",
    "        # number of items interacted by user\n",
    "        interacted_items_count_testset = len(person_interacted_items_testset)\n",
    "        \n",
    "        # 특정 사용자에 대한 추천 순위 목록을 받아온다\n",
    "        person_recs = model.recommend_items(\n",
    "            person_id,\n",
    "            items_to_ignore=get_items_interacted(person_id, interaction_train_indexed),\n",
    "            topn=10000000000\n",
    "        )\n",
    "        \n",
    "        hits_at_5_count = 0\n",
    "        hits_at_10_count = 0\n",
    "        \n",
    "        # test셋에서 사용자가 상호작용한 모든 항목에 대해 반복한다\n",
    "        for item_id in person_interacted_items_testset:\n",
    "            \n",
    "            # 사용자가 상호작용하지 않은 100개 항목을 샘플링한다\n",
    "            non_interacted_items_sample = self.get_non_interacted_items_sample(\n",
    "                person_id,\n",
    "                sample_size=self.EVAL_RANDOM_SAMPLE_NON_INTERACTED_ITEMS,\n",
    "                seed=item_id % (2**32)\n",
    "            )\n",
    "            \n",
    "            # 현재 선택한 item_id(상호작용 있었던 항목)와 100개 랜덤 샘플을 합친다\n",
    "            items_to_filter_recs = non_interacted_items_sample.union(set([item_id]))\n",
    "            \n",
    "            # 추천 결과물 중에서 현재 선택한 item_id와 100개 랜덤 샘플의 결과물로만 필터링한다\n",
    "            valid_recs = person_recs[person_recs.isin(items_to_filter_recs)].values\n",
    "            #valid_recs = valid_recs_df['contentId'].values\n",
    "            \n",
    "            # 현재 선택한 item_id가 Top-N 추천 결과 안에 있는지 확인한다\n",
    "            hit_at_5, index_at_5 = self._verify_hit_top_n(item_id, valid_recs, 5)\n",
    "            hits_at_5_count += hit_at_5\n",
    "            hit_at_10, index_at_10 = self._verify_hit_top_n(item_id, valid_recs, 10)\n",
    "            hits_at_10_count += hit_at_10\n",
    "            \n",
    "        # Recall 값은 상호작용 있었던 항목들 중에서 관련없는 항목들과 섞였을 때 Top-N에 오른 항목들의 비율로 나타낼 수 있다\n",
    "        recall_at_5 = hits_at_5_count / interacted_items_count_testset\n",
    "        recall_at_10 = hits_at_10_count / interacted_items_count_testset\n",
    "        \n",
    "        person_metrics = {\n",
    "            'hits@5_count': hits_at_5_count,\n",
    "            'hits@10_count': hits_at_10_count,\n",
    "            'interacted_count': interacted_items_count_testset,\n",
    "            'recall@5': recall_at_5,\n",
    "            'recall@10': recall_at_10\n",
    "        }\n",
    "        return person_metrics\n",
    "    \n",
    "    def evaluate_model(self, model):\n",
    "        people_metrics = []\n",
    "        for idx, person_id in enumerate(list(interaction_test_indexed.index.unique().values)):\n",
    "            person_metrics = self.evaluate_model_for_user(model, person_id)\n",
    "            person_metrics['_person_id'] = person_id\n",
    "            people_metrics.append(person_metrics)\n",
    "\n",
    "        print('{} users processed'.format(idx))\n",
    "        \n",
    "        detailed_result = (\n",
    "            pd.DataFrame(people_metrics)\n",
    "              .sort_values('interacted_count', ascending=False)\n",
    "        )\n",
    "        \n",
    "        global_recall_at_5 = detailed_result['hits@5_count'].sum() / detailed_result['interacted_count'].sum()\n",
    "        global_recall_at_10 = detailed_result['hits@10_count'].sum() / detailed_result['interacted_count'].sum()\n",
    "        \n",
    "        global_metrics = {\n",
    "            'model_name': model.get_model_name(),\n",
    "            'recall@5': global_recall_at_5,\n",
    "            'recall@10': global_recall_at_10\n",
    "        }\n",
    "        \n",
    "        return global_metrics, detailed_result"
   ]
  },
  {
   "cell_type": "code",
   "execution_count": 68,
   "metadata": {},
   "outputs": [],
   "source": [
    "class Model:\n",
    "    def __init__(self, model, user_enc, items_enc, interaction_matrix):\n",
    "        self.model_name = model\n",
    "        self.model = eval(model)\n",
    "        self.user_enc = user_enc\n",
    "        self.items_enc = items_enc\n",
    "        self.interaction_matrix = interaction_matrix\n",
    "        \n",
    "    def get_model_name(self):\n",
    "        return self.model_name\n",
    "    \n",
    "    def recommend_items(self, user_id, items_to_ignore=[], topn=10,verbose=False):\n",
    "        user_id_enc = user_enc.transform([user_id])\n",
    "        user_vec = self.interaction_matrix.iloc[user_id_enc[0],:]\n",
    "        pred_list = self.model.predict([user_vec.tolist()])\n",
    "        \n",
    "        return pd.Series(self.items_enc.classes_[np.argsort(pred_list)[::-1]][0][:topn])"
   ]
  },
  {
   "cell_type": "code",
   "execution_count": 69,
   "metadata": {},
   "outputs": [],
   "source": [
    "model_evaluator = ModelEvaluator(n_non_interacted = 100)"
   ]
  },
  {
   "cell_type": "markdown",
   "metadata": {},
   "source": [
    "# Autoencoder\n",
    "\n",
    "* Make recommendation to existing users\n",
    "* Make recommendation to new users"
   ]
  },
  {
   "cell_type": "code",
   "execution_count": 70,
   "metadata": {},
   "outputs": [],
   "source": [
    "from tensorflow.keras import regularizers\n",
    "\n",
    "# train_data = interaction_matrix.fillna(0)\n",
    "# train_data = train_data.apply(lambda x: [1. if i != 0. else 0 for i in x])\n",
    "\n",
    "AEmodel = tf.keras.Sequential()\n",
    "\n",
    "input_dim = train_data.shape[1]  #(1140, 2984)\n",
    "\n",
    "#model.add(tf.keras.layers.Embedding(input_dim = input_dim, output_dim = 500))\n",
    "\n",
    "AEmodel.add(tf.keras.layers.Dense(units = 1024, input_dim = input_dim,\n",
    "                                 activity_regularizer=regularizers.l1(10e-4)))\n",
    "\n",
    "#AEmodel.add(tf.keras.layers.Dense(units = 512))\n",
    "\n",
    "#AEmodel.add(tf.keras.layers.Dropout(0.1))\n",
    "\n",
    "#AEmodel.add(tf.keras.layers.Dense(units = 1024, input_dim = input_dim))\n",
    "\n",
    "AEmodel.add(tf.keras.layers.Dense(units = input_dim, activation = 'sigmoid'))"
   ]
  },
  {
   "cell_type": "code",
   "execution_count": 71,
   "metadata": {},
   "outputs": [],
   "source": [
    "import tensorflow.keras.backend as K\n",
    "\n",
    "def custom_loss():\n",
    "\n",
    "    # Create a loss function that adds the MSE loss to the mean of all squared activations of a specific layer\n",
    "    def loss(y_true,y_pred):\n",
    "        y_PRED = y_pred[(y_true != 0)]\n",
    "        y_TRUE = y_true[(y_true != 0)]\n",
    "        return K.mean(K.square(y_PRED - y_TRUE))\n",
    "   \n",
    "    # Return a function\n",
    "    return loss\n",
    "\n",
    "AEmodel.compile(loss = custom_loss(),optimizer = tf.keras.optimizers.Adam(lr = 0.001), metrics = [\"accuracy\"])"
   ]
  },
  {
   "cell_type": "code",
   "execution_count": 72,
   "metadata": {},
   "outputs": [
    {
     "name": "stdout",
     "output_type": "stream",
     "text": [
      "Model: \"sequential_2\"\n",
      "_________________________________________________________________\n",
      "Layer (type)                 Output Shape              Param #   \n",
      "=================================================================\n",
      "dense_4 (Dense)              (None, 1024)              3056640   \n",
      "_________________________________________________________________\n",
      "dense_5 (Dense)              (None, 2984)              3058600   \n",
      "=================================================================\n",
      "Total params: 6,115,240\n",
      "Trainable params: 6,115,240\n",
      "Non-trainable params: 0\n",
      "_________________________________________________________________\n"
     ]
    }
   ],
   "source": [
    "AEmodel.summary()"
   ]
  },
  {
   "cell_type": "code",
   "execution_count": 73,
   "metadata": {
    "scrolled": false
   },
   "outputs": [
    {
     "name": "stdout",
     "output_type": "stream",
     "text": [
      "Train on 760 samples, validate on 380 samples\n",
      "Epoch 1/20\n",
      "760/760 [==============================] - 1s 1ms/sample - loss: 0.1624 - accuracy: 0.0000e+00 - val_loss: 0.1491 - val_accuracy: 0.0000e+00\n",
      "Epoch 2/20\n",
      "760/760 [==============================] - 0s 625us/sample - loss: 0.1500 - accuracy: 0.0000e+00 - val_loss: 0.1352 - val_accuracy: 0.0000e+00\n",
      "Epoch 3/20\n",
      "760/760 [==============================] - 0s 584us/sample - loss: 0.1202 - accuracy: 0.0000e+00 - val_loss: 0.1003 - val_accuracy: 0.0000e+00\n",
      "Epoch 4/20\n",
      "760/760 [==============================] - 0s 589us/sample - loss: 0.0786 - accuracy: 0.0000e+00 - val_loss: 0.0699 - val_accuracy: 0.0000e+00\n",
      "Epoch 5/20\n",
      "760/760 [==============================] - 0s 597us/sample - loss: 0.0573 - accuracy: 0.0000e+00 - val_loss: 0.0583 - val_accuracy: 0.0000e+00\n",
      "Epoch 6/20\n",
      "760/760 [==============================] - 0s 638us/sample - loss: 0.0486 - accuracy: 0.0000e+00 - val_loss: 0.0524 - val_accuracy: 0.0000e+00\n",
      "Epoch 7/20\n",
      "760/760 [==============================] - 0s 607us/sample - loss: 0.0433 - accuracy: 0.0026 - val_loss: 0.0490 - val_accuracy: 0.0000e+00\n",
      "Epoch 8/20\n",
      "760/760 [==============================] - 0s 644us/sample - loss: 0.0398 - accuracy: 0.0053 - val_loss: 0.0465 - val_accuracy: 0.0000e+00\n",
      "Epoch 9/20\n",
      "760/760 [==============================] - 0s 629us/sample - loss: 0.0367 - accuracy: 0.0066 - val_loss: 0.0450 - val_accuracy: 0.0000e+00\n",
      "Epoch 10/20\n",
      "760/760 [==============================] - 0s 593us/sample - loss: 0.0344 - accuracy: 0.0066 - val_loss: 0.0437 - val_accuracy: 0.0000e+00\n",
      "Epoch 11/20\n",
      "760/760 [==============================] - 0s 630us/sample - loss: 0.0326 - accuracy: 0.0053 - val_loss: 0.0426 - val_accuracy: 0.0000e+00\n",
      "Epoch 12/20\n",
      "760/760 [==============================] - 0s 567us/sample - loss: 0.0309 - accuracy: 0.0039 - val_loss: 0.0416 - val_accuracy: 0.0000e+00\n",
      "Epoch 13/20\n",
      "760/760 [==============================] - 0s 609us/sample - loss: 0.0296 - accuracy: 0.0026 - val_loss: 0.0407 - val_accuracy: 0.0000e+00\n",
      "Epoch 14/20\n",
      "760/760 [==============================] - 0s 652us/sample - loss: 0.0284 - accuracy: 0.0013 - val_loss: 0.0399 - val_accuracy: 0.0000e+00\n",
      "Epoch 15/20\n",
      "760/760 [==============================] - 0s 641us/sample - loss: 0.0273 - accuracy: 0.0026 - val_loss: 0.0391 - val_accuracy: 0.0000e+00\n",
      "Epoch 16/20\n",
      "760/760 [==============================] - 1s 694us/sample - loss: 0.0265 - accuracy: 0.0026 - val_loss: 0.0385 - val_accuracy: 0.0000e+00\n",
      "Epoch 17/20\n",
      "760/760 [==============================] - 0s 630us/sample - loss: 0.0255 - accuracy: 0.0026 - val_loss: 0.0381 - val_accuracy: 0.0000e+00\n",
      "Epoch 18/20\n",
      "760/760 [==============================] - 0s 649us/sample - loss: 0.0248 - accuracy: 0.0013 - val_loss: 0.0373 - val_accuracy: 0.0000e+00\n",
      "Epoch 19/20\n",
      "760/760 [==============================] - 0s 620us/sample - loss: 0.0240 - accuracy: 0.0026 - val_loss: 0.0369 - val_accuracy: 0.0000e+00\n",
      "Epoch 20/20\n",
      "760/760 [==============================] - 0s 654us/sample - loss: 0.0233 - accuracy: 0.0026 - val_loss: 0.0363 - val_accuracy: 0.0000e+00\n"
     ]
    },
    {
     "data": {
      "text/plain": [
       "<tensorflow.python.keras.callbacks.History at 0x7f47f2274810>"
      ]
     },
     "execution_count": 73,
     "metadata": {},
     "output_type": "execute_result"
    }
   ],
   "source": [
    "AEmodel.fit(IMdata, IMdata, epochs = 20, batch_size = 100, validation_split = 0.333,\n",
    "          callbacks = [tf.keras.callbacks.EarlyStopping(patience=5, monitor=\"val_loss\")])"
   ]
  },
  {
   "cell_type": "code",
   "execution_count": 74,
   "metadata": {},
   "outputs": [
    {
     "data": {
      "text/plain": [
       "array([[0.31324464, 0.29687852, 0.22925583, ..., 0.30024064, 0.20412451,\n",
       "        0.25643033]], dtype=float32)"
      ]
     },
     "execution_count": 74,
     "metadata": {},
     "output_type": "execute_result"
    }
   ],
   "source": [
    "AEmodel.predict(IMdata[0,:].reshape(-1,IMdata.shape[1]))"
   ]
  },
  {
   "cell_type": "code",
   "execution_count": 75,
   "metadata": {},
   "outputs": [],
   "source": [
    "IMdata_df = pd.DataFrame(IMdata, columns = interaction_matrix.columns, index = interaction_matrix.index)\n",
    "autoencoder_model = Model(\"AEmodel\", user_enc, item_enc, IMdata_df)"
   ]
  },
  {
   "cell_type": "code",
   "execution_count": 76,
   "metadata": {
    "scrolled": false
   },
   "outputs": [
    {
     "name": "stdout",
     "output_type": "stream",
     "text": [
      "AEmodel 추천 모형을 평가합니다\n",
      "1139 users processed\n",
      "Global Metrics:\n",
      "{'model_name': 'AEmodel', 'recall@5': 0.2416261825620046, 'recall@10': 0.3667859882383022}\n"
     ]
    },
    {
     "data": {
      "text/html": [
       "<div>\n",
       "<style scoped>\n",
       "    .dataframe tbody tr th:only-of-type {\n",
       "        vertical-align: middle;\n",
       "    }\n",
       "\n",
       "    .dataframe tbody tr th {\n",
       "        vertical-align: top;\n",
       "    }\n",
       "\n",
       "    .dataframe thead th {\n",
       "        text-align: right;\n",
       "    }\n",
       "</style>\n",
       "<table border=\"1\" class=\"dataframe\">\n",
       "  <thead>\n",
       "    <tr style=\"text-align: right;\">\n",
       "      <th></th>\n",
       "      <th>hits@5_count</th>\n",
       "      <th>hits@10_count</th>\n",
       "      <th>interacted_count</th>\n",
       "      <th>recall@5</th>\n",
       "      <th>recall@10</th>\n",
       "      <th>_person_id</th>\n",
       "    </tr>\n",
       "  </thead>\n",
       "  <tbody>\n",
       "    <tr>\n",
       "      <th>76</th>\n",
       "      <td>13</td>\n",
       "      <td>37</td>\n",
       "      <td>192</td>\n",
       "      <td>0.067708</td>\n",
       "      <td>0.192708</td>\n",
       "      <td>3609194402293569455</td>\n",
       "    </tr>\n",
       "    <tr>\n",
       "      <th>17</th>\n",
       "      <td>7</td>\n",
       "      <td>12</td>\n",
       "      <td>134</td>\n",
       "      <td>0.052239</td>\n",
       "      <td>0.089552</td>\n",
       "      <td>-2626634673110551643</td>\n",
       "    </tr>\n",
       "    <tr>\n",
       "      <th>16</th>\n",
       "      <td>9</td>\n",
       "      <td>13</td>\n",
       "      <td>130</td>\n",
       "      <td>0.069231</td>\n",
       "      <td>0.100000</td>\n",
       "      <td>-1032019229384696495</td>\n",
       "    </tr>\n",
       "    <tr>\n",
       "      <th>10</th>\n",
       "      <td>3</td>\n",
       "      <td>4</td>\n",
       "      <td>117</td>\n",
       "      <td>0.025641</td>\n",
       "      <td>0.034188</td>\n",
       "      <td>-1443636648652872475</td>\n",
       "    </tr>\n",
       "    <tr>\n",
       "      <th>82</th>\n",
       "      <td>17</td>\n",
       "      <td>32</td>\n",
       "      <td>88</td>\n",
       "      <td>0.193182</td>\n",
       "      <td>0.363636</td>\n",
       "      <td>-2979881261169775358</td>\n",
       "    </tr>\n",
       "    <tr>\n",
       "      <th>161</th>\n",
       "      <td>9</td>\n",
       "      <td>12</td>\n",
       "      <td>80</td>\n",
       "      <td>0.112500</td>\n",
       "      <td>0.150000</td>\n",
       "      <td>-3596626804281480007</td>\n",
       "    </tr>\n",
       "    <tr>\n",
       "      <th>65</th>\n",
       "      <td>20</td>\n",
       "      <td>30</td>\n",
       "      <td>73</td>\n",
       "      <td>0.273973</td>\n",
       "      <td>0.410959</td>\n",
       "      <td>1116121227607581999</td>\n",
       "    </tr>\n",
       "    <tr>\n",
       "      <th>81</th>\n",
       "      <td>8</td>\n",
       "      <td>13</td>\n",
       "      <td>69</td>\n",
       "      <td>0.115942</td>\n",
       "      <td>0.188406</td>\n",
       "      <td>692689608292948411</td>\n",
       "    </tr>\n",
       "    <tr>\n",
       "      <th>106</th>\n",
       "      <td>7</td>\n",
       "      <td>17</td>\n",
       "      <td>69</td>\n",
       "      <td>0.101449</td>\n",
       "      <td>0.246377</td>\n",
       "      <td>-9016528795238256703</td>\n",
       "    </tr>\n",
       "    <tr>\n",
       "      <th>52</th>\n",
       "      <td>10</td>\n",
       "      <td>21</td>\n",
       "      <td>68</td>\n",
       "      <td>0.147059</td>\n",
       "      <td>0.308824</td>\n",
       "      <td>3636910968448833585</td>\n",
       "    </tr>\n",
       "  </tbody>\n",
       "</table>\n",
       "</div>"
      ],
      "text/plain": [
       "     hits@5_count  hits@10_count  interacted_count  recall@5  recall@10  \\\n",
       "76             13             37               192  0.067708   0.192708   \n",
       "17              7             12               134  0.052239   0.089552   \n",
       "16              9             13               130  0.069231   0.100000   \n",
       "10              3              4               117  0.025641   0.034188   \n",
       "82             17             32                88  0.193182   0.363636   \n",
       "161             9             12                80  0.112500   0.150000   \n",
       "65             20             30                73  0.273973   0.410959   \n",
       "81              8             13                69  0.115942   0.188406   \n",
       "106             7             17                69  0.101449   0.246377   \n",
       "52             10             21                68  0.147059   0.308824   \n",
       "\n",
       "              _person_id  \n",
       "76   3609194402293569455  \n",
       "17  -2626634673110551643  \n",
       "16  -1032019229384696495  \n",
       "10  -1443636648652872475  \n",
       "82  -2979881261169775358  \n",
       "161 -3596626804281480007  \n",
       "65   1116121227607581999  \n",
       "81    692689608292948411  \n",
       "106 -9016528795238256703  \n",
       "52   3636910968448833585  "
      ]
     },
     "execution_count": 76,
     "metadata": {},
     "output_type": "execute_result"
    }
   ],
   "source": [
    "print('{} 추천 모형을 평가합니다'.format(autoencoder_model.get_model_name()))\n",
    "pop_global_metrics, pop_detailed_results = model_evaluator.evaluate_model(autoencoder_model)\n",
    "print('Global Metrics:\\n{}'.format(pop_global_metrics))\n",
    "pop_detailed_results.head(10)"
   ]
  },
  {
   "cell_type": "markdown",
   "metadata": {},
   "source": [
    "# Denoising Autoencoder"
   ]
  },
  {
   "cell_type": "code",
   "execution_count": 77,
   "metadata": {},
   "outputs": [],
   "source": [
    "import random\n",
    "import copy\n",
    "\n",
    "# data masking (set random positions in the data to 0)\n",
    "\n",
    "def mask_data(X, N, method = \"2D\"):\n",
    "    \n",
    "    assert isinstance(X, np.ndarray), 'Wrong input type for X'\n",
    "    \n",
    "    if method == \"1D\":\n",
    "        row = np.where(X != 0)[0]\n",
    "        pos = row.tolist()\n",
    "        n = random.randint(1,N)\n",
    "        mask_index = np.array(random.sample(pos, n))\n",
    "        masked = np.copy(X)\n",
    "        masked[mask_index] = 0\n",
    "        return masked, mask_index\n",
    "    \n",
    "    elif method == \"2D\":\n",
    "        \n",
    "        row, col = np.where(X != 0)\n",
    "        pos = [*zip(row.tolist(), col.tolist())]\n",
    "        mask_index = np.array(random.sample(pos, N))\n",
    "        masked = np.copy(X)\n",
    "        masked[mask_index[:,0], mask_index[:,1]] = 0\n",
    "    \n",
    "        return masked, mask_index"
   ]
  },
  {
   "cell_type": "code",
   "execution_count": 78,
   "metadata": {},
   "outputs": [],
   "source": [
    "# masking at random < 5\n",
    "masking = lambda x: mask_data(x, 5, method = \"1D\")\n",
    "train_masked = np.vstack(np.apply_along_axis(masking, 1, IMdata)[:,0])\n",
    "masked_index = np.apply_along_axis(masking, 1, IMdata)[:,1]"
   ]
  },
  {
   "cell_type": "code",
   "execution_count": 79,
   "metadata": {},
   "outputs": [],
   "source": [
    "DAEmodel = tf.keras.Sequential()\n",
    "\n",
    "input_dim = train_data.shape[1]  #(1140, 2984)\n",
    "\n",
    "#model.add(tf.keras.layers.Embedding(input_dim = input_dim, output_dim = 500))\n",
    "\n",
    "DAEmodel.add(tf.keras.layers.Dense(units = 1024, input_dim = input_dim,\n",
    "                                 activity_regularizer=regularizers.l1(10e-4)))\n",
    "\n",
    "#DAEmodel.add(tf.keras.layers.Dense(units = 512, input_dim = input_dim))\n",
    "\n",
    "#model.add(tf.keras.layers.Dropout(0.5))\n",
    "\n",
    "#DAEmodel.add(tf.keras.layers.Dense(units = 1024, input_dim = input_dim))\n",
    "\n",
    "DAEmodel.add(tf.keras.layers.Dense(units = input_dim, activation='sigmoid'))\n",
    "\n",
    "DAEmodel.compile(loss = custom_loss(), optimizer = tf.keras.optimizers.Adam(lr = 0.001), metrics = [\"accuracy\"])"
   ]
  },
  {
   "cell_type": "code",
   "execution_count": 80,
   "metadata": {},
   "outputs": [
    {
     "name": "stdout",
     "output_type": "stream",
     "text": [
      "Model: \"sequential_3\"\n",
      "_________________________________________________________________\n",
      "Layer (type)                 Output Shape              Param #   \n",
      "=================================================================\n",
      "dense_6 (Dense)              (None, 1024)              3056640   \n",
      "_________________________________________________________________\n",
      "dense_7 (Dense)              (None, 2984)              3058600   \n",
      "=================================================================\n",
      "Total params: 6,115,240\n",
      "Trainable params: 6,115,240\n",
      "Non-trainable params: 0\n",
      "_________________________________________________________________\n"
     ]
    }
   ],
   "source": [
    "DAEmodel.summary()"
   ]
  },
  {
   "cell_type": "code",
   "execution_count": 81,
   "metadata": {
    "scrolled": false
   },
   "outputs": [
    {
     "name": "stdout",
     "output_type": "stream",
     "text": [
      "Train on 760 samples, validate on 380 samples\n",
      "Epoch 1/10\n",
      "760/760 [==============================] - 1s 1ms/sample - loss: 0.1615 - accuracy: 0.0000e+00 - val_loss: 0.1492 - val_accuracy: 0.0000e+00\n",
      "Epoch 2/10\n",
      "760/760 [==============================] - 0s 538us/sample - loss: 0.1546 - accuracy: 0.0000e+00 - val_loss: 0.1421 - val_accuracy: 0.0000e+00\n",
      "Epoch 3/10\n",
      "760/760 [==============================] - 0s 525us/sample - loss: 0.1396 - accuracy: 0.0000e+00 - val_loss: 0.1254 - val_accuracy: 0.0000e+00\n",
      "Epoch 4/10\n",
      "760/760 [==============================] - 0s 544us/sample - loss: 0.1133 - accuracy: 0.0013 - val_loss: 0.0971 - val_accuracy: 0.0000e+00\n",
      "Epoch 5/10\n",
      "760/760 [==============================] - 0s 531us/sample - loss: 0.0811 - accuracy: 0.0026 - val_loss: 0.0722 - val_accuracy: 0.0000e+00\n",
      "Epoch 6/10\n",
      "760/760 [==============================] - 0s 538us/sample - loss: 0.0604 - accuracy: 0.0026 - val_loss: 0.0602 - val_accuracy: 0.0000e+00\n",
      "Epoch 7/10\n",
      "760/760 [==============================] - 0s 534us/sample - loss: 0.0521 - accuracy: 0.0026 - val_loss: 0.0543 - val_accuracy: 0.0000e+00\n",
      "Epoch 8/10\n",
      "760/760 [==============================] - 0s 538us/sample - loss: 0.0475 - accuracy: 0.0026 - val_loss: 0.0505 - val_accuracy: 0.0000e+00\n",
      "Epoch 9/10\n",
      "760/760 [==============================] - 0s 565us/sample - loss: 0.0439 - accuracy: 0.0026 - val_loss: 0.0479 - val_accuracy: 0.0000e+00\n",
      "Epoch 10/10\n",
      "760/760 [==============================] - 0s 548us/sample - loss: 0.0408 - accuracy: 0.0000e+00 - val_loss: 0.0461 - val_accuracy: 0.0000e+00\n"
     ]
    },
    {
     "data": {
      "text/plain": [
       "<tensorflow.python.keras.callbacks.History at 0x7f47dc20e710>"
      ]
     },
     "execution_count": 81,
     "metadata": {},
     "output_type": "execute_result"
    }
   ],
   "source": [
    "DAEmodel.fit(train_masked, IMdata, epochs = 10, batch_size = 150, validation_split = 0.333,\n",
    "            callbacks = [tf.keras.callbacks.EarlyStopping(patience=10, monitor=\"val_loss\")])"
   ]
  },
  {
   "cell_type": "code",
   "execution_count": 82,
   "metadata": {},
   "outputs": [
    {
     "data": {
      "text/plain": [
       "array([[0.43149537, 0.43140766, 0.38232175, ..., 0.40681782, 0.3957355 ,\n",
       "        0.41745102]], dtype=float32)"
      ]
     },
     "execution_count": 82,
     "metadata": {},
     "output_type": "execute_result"
    }
   ],
   "source": [
    "DAEmodel.predict(train_data[0,:].reshape(-1,train_data.shape[1]))"
   ]
  },
  {
   "cell_type": "code",
   "execution_count": 83,
   "metadata": {},
   "outputs": [],
   "source": [
    "autoencoder_model = Model(\"DAEmodel\", user_enc, item_enc, IMdata_df)"
   ]
  },
  {
   "cell_type": "code",
   "execution_count": 84,
   "metadata": {
    "scrolled": false
   },
   "outputs": [
    {
     "name": "stdout",
     "output_type": "stream",
     "text": [
      "DAEmodel 추천 모형을 평가합니다\n",
      "1139 users processed\n",
      "Global Metrics:\n",
      "{'model_name': 'DAEmodel', 'recall@5': 0.28982357453336743, 'recall@10': 0.4239324980823319}\n"
     ]
    },
    {
     "data": {
      "text/html": [
       "<div>\n",
       "<style scoped>\n",
       "    .dataframe tbody tr th:only-of-type {\n",
       "        vertical-align: middle;\n",
       "    }\n",
       "\n",
       "    .dataframe tbody tr th {\n",
       "        vertical-align: top;\n",
       "    }\n",
       "\n",
       "    .dataframe thead th {\n",
       "        text-align: right;\n",
       "    }\n",
       "</style>\n",
       "<table border=\"1\" class=\"dataframe\">\n",
       "  <thead>\n",
       "    <tr style=\"text-align: right;\">\n",
       "      <th></th>\n",
       "      <th>hits@5_count</th>\n",
       "      <th>hits@10_count</th>\n",
       "      <th>interacted_count</th>\n",
       "      <th>recall@5</th>\n",
       "      <th>recall@10</th>\n",
       "      <th>_person_id</th>\n",
       "    </tr>\n",
       "  </thead>\n",
       "  <tbody>\n",
       "    <tr>\n",
       "      <th>76</th>\n",
       "      <td>26</td>\n",
       "      <td>51</td>\n",
       "      <td>192</td>\n",
       "      <td>0.135417</td>\n",
       "      <td>0.265625</td>\n",
       "      <td>3609194402293569455</td>\n",
       "    </tr>\n",
       "    <tr>\n",
       "      <th>17</th>\n",
       "      <td>13</td>\n",
       "      <td>22</td>\n",
       "      <td>134</td>\n",
       "      <td>0.097015</td>\n",
       "      <td>0.164179</td>\n",
       "      <td>-2626634673110551643</td>\n",
       "    </tr>\n",
       "    <tr>\n",
       "      <th>16</th>\n",
       "      <td>15</td>\n",
       "      <td>26</td>\n",
       "      <td>130</td>\n",
       "      <td>0.115385</td>\n",
       "      <td>0.200000</td>\n",
       "      <td>-1032019229384696495</td>\n",
       "    </tr>\n",
       "    <tr>\n",
       "      <th>10</th>\n",
       "      <td>6</td>\n",
       "      <td>11</td>\n",
       "      <td>117</td>\n",
       "      <td>0.051282</td>\n",
       "      <td>0.094017</td>\n",
       "      <td>-1443636648652872475</td>\n",
       "    </tr>\n",
       "    <tr>\n",
       "      <th>82</th>\n",
       "      <td>29</td>\n",
       "      <td>51</td>\n",
       "      <td>88</td>\n",
       "      <td>0.329545</td>\n",
       "      <td>0.579545</td>\n",
       "      <td>-2979881261169775358</td>\n",
       "    </tr>\n",
       "    <tr>\n",
       "      <th>161</th>\n",
       "      <td>14</td>\n",
       "      <td>16</td>\n",
       "      <td>80</td>\n",
       "      <td>0.175000</td>\n",
       "      <td>0.200000</td>\n",
       "      <td>-3596626804281480007</td>\n",
       "    </tr>\n",
       "    <tr>\n",
       "      <th>65</th>\n",
       "      <td>25</td>\n",
       "      <td>34</td>\n",
       "      <td>73</td>\n",
       "      <td>0.342466</td>\n",
       "      <td>0.465753</td>\n",
       "      <td>1116121227607581999</td>\n",
       "    </tr>\n",
       "    <tr>\n",
       "      <th>81</th>\n",
       "      <td>12</td>\n",
       "      <td>21</td>\n",
       "      <td>69</td>\n",
       "      <td>0.173913</td>\n",
       "      <td>0.304348</td>\n",
       "      <td>692689608292948411</td>\n",
       "    </tr>\n",
       "    <tr>\n",
       "      <th>106</th>\n",
       "      <td>11</td>\n",
       "      <td>23</td>\n",
       "      <td>69</td>\n",
       "      <td>0.159420</td>\n",
       "      <td>0.333333</td>\n",
       "      <td>-9016528795238256703</td>\n",
       "    </tr>\n",
       "    <tr>\n",
       "      <th>52</th>\n",
       "      <td>17</td>\n",
       "      <td>28</td>\n",
       "      <td>68</td>\n",
       "      <td>0.250000</td>\n",
       "      <td>0.411765</td>\n",
       "      <td>3636910968448833585</td>\n",
       "    </tr>\n",
       "  </tbody>\n",
       "</table>\n",
       "</div>"
      ],
      "text/plain": [
       "     hits@5_count  hits@10_count  interacted_count  recall@5  recall@10  \\\n",
       "76             26             51               192  0.135417   0.265625   \n",
       "17             13             22               134  0.097015   0.164179   \n",
       "16             15             26               130  0.115385   0.200000   \n",
       "10              6             11               117  0.051282   0.094017   \n",
       "82             29             51                88  0.329545   0.579545   \n",
       "161            14             16                80  0.175000   0.200000   \n",
       "65             25             34                73  0.342466   0.465753   \n",
       "81             12             21                69  0.173913   0.304348   \n",
       "106            11             23                69  0.159420   0.333333   \n",
       "52             17             28                68  0.250000   0.411765   \n",
       "\n",
       "              _person_id  \n",
       "76   3609194402293569455  \n",
       "17  -2626634673110551643  \n",
       "16  -1032019229384696495  \n",
       "10  -1443636648652872475  \n",
       "82  -2979881261169775358  \n",
       "161 -3596626804281480007  \n",
       "65   1116121227607581999  \n",
       "81    692689608292948411  \n",
       "106 -9016528795238256703  \n",
       "52   3636910968448833585  "
      ]
     },
     "execution_count": 84,
     "metadata": {},
     "output_type": "execute_result"
    }
   ],
   "source": [
    "print('{} 추천 모형을 평가합니다'.format(autoencoder_model.get_model_name()))\n",
    "pop_global_metrics, pop_detailed_results = model_evaluator.evaluate_model(autoencoder_model)\n",
    "print('Global Metrics:\\n{}'.format(pop_global_metrics))\n",
    "pop_detailed_results.head(10)"
   ]
  },
  {
   "cell_type": "code",
   "execution_count": 94,
   "metadata": {},
   "outputs": [],
   "source": [
    "test_masked, mask_index = mask_data(IMdata[:10,:], 10)"
   ]
  },
  {
   "cell_type": "code",
   "execution_count": 95,
   "metadata": {},
   "outputs": [],
   "source": [
    "AEpred_masked = AEmodel.predict(test_masked)\n",
    "DAEpred_masked = DAEmodel.predict(test_masked)"
   ]
  },
  {
   "cell_type": "code",
   "execution_count": 96,
   "metadata": {},
   "outputs": [
    {
     "data": {
      "text/plain": [
       "array([0.44336262, 0.23857033, 0.1854369 , 0.23935731, 0.4825811 ,\n",
       "       0.20196253, 0.19202143, 0.20528747, 0.17378135, 0.44983858],\n",
       "      dtype=float32)"
      ]
     },
     "execution_count": 96,
     "metadata": {},
     "output_type": "execute_result"
    }
   ],
   "source": [
    "AEpred_masked[mask_index[:,0],mask_index[:,1]]"
   ]
  },
  {
   "cell_type": "code",
   "execution_count": 97,
   "metadata": {},
   "outputs": [
    {
     "data": {
      "text/plain": [
       "array([0.4537943 , 0.32872105, 0.22676946, 0.2456087 , 0.4187078 ,\n",
       "       0.24607575, 0.20382258, 0.22446868, 0.21806924, 0.4618672 ],\n",
       "      dtype=float32)"
      ]
     },
     "execution_count": 97,
     "metadata": {},
     "output_type": "execute_result"
    }
   ],
   "source": [
    "DAEpred_masked[mask_index[:,0],mask_index[:,1]]"
   ]
  },
  {
   "cell_type": "code",
   "execution_count": 98,
   "metadata": {},
   "outputs": [
    {
     "data": {
      "text/plain": [
       "array([0.27204358, 0.29468262, 0.10642645, 0.16868193, 0.6879568 ,\n",
       "       0.1170021 , 0.1170021 , 0.1170021 , 0.10642645, 0.54408715])"
      ]
     },
     "execution_count": 98,
     "metadata": {},
     "output_type": "execute_result"
    }
   ],
   "source": [
    "IMdata[mask_index[:,0],mask_index[:,1]]"
   ]
  },
  {
   "cell_type": "markdown",
   "metadata": {},
   "source": [
    "#### Important aspect\n",
    "* the most important aspect of modelling with this data was L1 regularizers. Due to the sparsity of the given dataset, utilizing L1/L2 regularizers were essential in avoiding have too many active columns that act as a distraction to the model during evaluation.\n",
    "* Consequently, autoencoders outperformed traditional cosine similarity method, while denoising autoencoders outperformed vanilla autoencoders.\n",
    "* In the implementation of denoising autoencoders, random masking of the data could have been conducted totally randomly as pre-setting randomly masked positions only results in another set of fixed data that the model will learn. "
   ]
  },
  {
   "cell_type": "markdown",
   "metadata": {},
   "source": [
    "# 번외"
   ]
  },
  {
   "cell_type": "code",
   "execution_count": 48,
   "metadata": {},
   "outputs": [],
   "source": [
    "ns_data = pd.read_csv(\"./data/ratings.csv\", index_col = 0) \\\n",
    "                      .fillna(0)"
   ]
  },
  {
   "cell_type": "code",
   "execution_count": 49,
   "metadata": {},
   "outputs": [
    {
     "data": {
      "text/plain": [
       "(20, 20)"
      ]
     },
     "execution_count": 49,
     "metadata": {},
     "output_type": "execute_result"
    }
   ],
   "source": [
    "ns_data.shape"
   ]
  },
  {
   "cell_type": "code",
   "execution_count": 50,
   "metadata": {},
   "outputs": [
    {
     "data": {
      "text/html": [
       "<div>\n",
       "<style scoped>\n",
       "    .dataframe tbody tr th:only-of-type {\n",
       "        vertical-align: middle;\n",
       "    }\n",
       "\n",
       "    .dataframe tbody tr th {\n",
       "        vertical-align: top;\n",
       "    }\n",
       "\n",
       "    .dataframe thead th {\n",
       "        text-align: right;\n",
       "    }\n",
       "</style>\n",
       "<table border=\"1\" class=\"dataframe\">\n",
       "  <thead>\n",
       "    <tr style=\"text-align: right;\">\n",
       "      <th></th>\n",
       "      <th>260</th>\n",
       "      <th>1210</th>\n",
       "      <th>356</th>\n",
       "      <th>318</th>\n",
       "      <th>593</th>\n",
       "      <th>3578</th>\n",
       "      <th>1</th>\n",
       "      <th>2028</th>\n",
       "      <th>296</th>\n",
       "      <th>1259</th>\n",
       "      <th>2396</th>\n",
       "      <th>2916</th>\n",
       "      <th>780</th>\n",
       "      <th>541</th>\n",
       "      <th>1265</th>\n",
       "      <th>2571</th>\n",
       "      <th>527</th>\n",
       "      <th>2762</th>\n",
       "      <th>1198</th>\n",
       "      <th>34</th>\n",
       "    </tr>\n",
       "    <tr>\n",
       "      <th>User</th>\n",
       "      <th></th>\n",
       "      <th></th>\n",
       "      <th></th>\n",
       "      <th></th>\n",
       "      <th></th>\n",
       "      <th></th>\n",
       "      <th></th>\n",
       "      <th></th>\n",
       "      <th></th>\n",
       "      <th></th>\n",
       "      <th></th>\n",
       "      <th></th>\n",
       "      <th></th>\n",
       "      <th></th>\n",
       "      <th></th>\n",
       "      <th></th>\n",
       "      <th></th>\n",
       "      <th></th>\n",
       "      <th></th>\n",
       "      <th></th>\n",
       "    </tr>\n",
       "  </thead>\n",
       "  <tbody>\n",
       "    <tr>\n",
       "      <th>755</th>\n",
       "      <td>1.0</td>\n",
       "      <td>5.0</td>\n",
       "      <td>2.0</td>\n",
       "      <td>0.0</td>\n",
       "      <td>4.0</td>\n",
       "      <td>4.0</td>\n",
       "      <td>2.0</td>\n",
       "      <td>2.0</td>\n",
       "      <td>0.0</td>\n",
       "      <td>3.0</td>\n",
       "      <td>2.0</td>\n",
       "      <td>0.0</td>\n",
       "      <td>5.0</td>\n",
       "      <td>2.0</td>\n",
       "      <td>0.0</td>\n",
       "      <td>4.0</td>\n",
       "      <td>2.0</td>\n",
       "      <td>5.0</td>\n",
       "      <td>0.0</td>\n",
       "      <td>0.0</td>\n",
       "    </tr>\n",
       "    <tr>\n",
       "      <th>5277</th>\n",
       "      <td>5.0</td>\n",
       "      <td>3.0</td>\n",
       "      <td>0.0</td>\n",
       "      <td>2.0</td>\n",
       "      <td>4.0</td>\n",
       "      <td>2.0</td>\n",
       "      <td>1.0</td>\n",
       "      <td>0.0</td>\n",
       "      <td>0.0</td>\n",
       "      <td>4.0</td>\n",
       "      <td>3.0</td>\n",
       "      <td>2.0</td>\n",
       "      <td>2.0</td>\n",
       "      <td>0.0</td>\n",
       "      <td>2.0</td>\n",
       "      <td>0.0</td>\n",
       "      <td>5.0</td>\n",
       "      <td>1.0</td>\n",
       "      <td>3.0</td>\n",
       "      <td>0.0</td>\n",
       "    </tr>\n",
       "    <tr>\n",
       "      <th>1577</th>\n",
       "      <td>0.0</td>\n",
       "      <td>0.0</td>\n",
       "      <td>0.0</td>\n",
       "      <td>5.0</td>\n",
       "      <td>2.0</td>\n",
       "      <td>0.0</td>\n",
       "      <td>4.0</td>\n",
       "      <td>0.0</td>\n",
       "      <td>0.0</td>\n",
       "      <td>1.0</td>\n",
       "      <td>0.0</td>\n",
       "      <td>1.0</td>\n",
       "      <td>4.0</td>\n",
       "      <td>4.0</td>\n",
       "      <td>1.0</td>\n",
       "      <td>1.0</td>\n",
       "      <td>2.0</td>\n",
       "      <td>3.0</td>\n",
       "      <td>1.0</td>\n",
       "      <td>3.0</td>\n",
       "    </tr>\n",
       "    <tr>\n",
       "      <th>4388</th>\n",
       "      <td>0.0</td>\n",
       "      <td>3.0</td>\n",
       "      <td>0.0</td>\n",
       "      <td>0.0</td>\n",
       "      <td>0.0</td>\n",
       "      <td>1.0</td>\n",
       "      <td>2.0</td>\n",
       "      <td>3.0</td>\n",
       "      <td>4.0</td>\n",
       "      <td>0.0</td>\n",
       "      <td>0.0</td>\n",
       "      <td>4.0</td>\n",
       "      <td>1.0</td>\n",
       "      <td>3.0</td>\n",
       "      <td>5.0</td>\n",
       "      <td>0.0</td>\n",
       "      <td>5.0</td>\n",
       "      <td>1.0</td>\n",
       "      <td>1.0</td>\n",
       "      <td>2.0</td>\n",
       "    </tr>\n",
       "    <tr>\n",
       "      <th>1202</th>\n",
       "      <td>4.0</td>\n",
       "      <td>3.0</td>\n",
       "      <td>4.0</td>\n",
       "      <td>1.0</td>\n",
       "      <td>4.0</td>\n",
       "      <td>1.0</td>\n",
       "      <td>0.0</td>\n",
       "      <td>4.0</td>\n",
       "      <td>0.0</td>\n",
       "      <td>1.0</td>\n",
       "      <td>5.0</td>\n",
       "      <td>1.0</td>\n",
       "      <td>0.0</td>\n",
       "      <td>4.0</td>\n",
       "      <td>0.0</td>\n",
       "      <td>3.0</td>\n",
       "      <td>5.0</td>\n",
       "      <td>5.0</td>\n",
       "      <td>0.0</td>\n",
       "      <td>0.0</td>\n",
       "    </tr>\n",
       "  </tbody>\n",
       "</table>\n",
       "</div>"
      ],
      "text/plain": [
       "      260  1210  356  318  593  3578    1  2028  296  1259  2396  2916  780  \\\n",
       "User                                                                          \n",
       "755   1.0   5.0  2.0  0.0  4.0   4.0  2.0   2.0  0.0   3.0   2.0   0.0  5.0   \n",
       "5277  5.0   3.0  0.0  2.0  4.0   2.0  1.0   0.0  0.0   4.0   3.0   2.0  2.0   \n",
       "1577  0.0   0.0  0.0  5.0  2.0   0.0  4.0   0.0  0.0   1.0   0.0   1.0  4.0   \n",
       "4388  0.0   3.0  0.0  0.0  0.0   1.0  2.0   3.0  4.0   0.0   0.0   4.0  1.0   \n",
       "1202  4.0   3.0  4.0  1.0  4.0   1.0  0.0   4.0  0.0   1.0   5.0   1.0  0.0   \n",
       "\n",
       "      541  1265  2571  527  2762  1198   34  \n",
       "User                                         \n",
       "755   2.0   0.0   4.0  2.0   5.0   0.0  0.0  \n",
       "5277  0.0   2.0   0.0  5.0   1.0   3.0  0.0  \n",
       "1577  4.0   1.0   1.0  2.0   3.0   1.0  3.0  \n",
       "4388  3.0   5.0   0.0  5.0   1.0   1.0  2.0  \n",
       "1202  4.0   0.0   3.0  5.0   5.0   0.0  0.0  "
      ]
     },
     "execution_count": 50,
     "metadata": {},
     "output_type": "execute_result"
    }
   ],
   "source": [
    "ns_data.head()"
   ]
  },
  {
   "cell_type": "code",
   "execution_count": 51,
   "metadata": {},
   "outputs": [],
   "source": [
    "ns_data_norm = Normalizer().fit_transform(ns_data)"
   ]
  },
  {
   "cell_type": "code",
   "execution_count": 52,
   "metadata": {},
   "outputs": [],
   "source": [
    "# numpy works better than pandas for tensorflow\n",
    "train_data = ns_data_norm[4:,:]\n",
    "test_data = ns_data_norm[:4,:]\n",
    "\n",
    "model = tf.keras.Sequential()\n",
    "\n",
    "input_dim = train_data.shape[1]  #(16,20)\n",
    "\n",
    "#model.add(tf.keras.layers.Embedding(input_dim = input_dim, output_dim = 500))\n",
    "\n",
    "model.add(tf.keras.layers.Dense(units = 10, input_dim = input_dim))\n",
    "\n",
    "#model.add(tf.keras.layers.Dropout(0.5))\n",
    "\n",
    "model.add(tf.keras.layers.Dense(units = input_dim, activation = 'sigmoid'))\n",
    "\n",
    "model.compile(loss = custom_loss(), optimizer = tf.keras.optimizers.Adam(lr = 0.005), metrics = [\"accuracy\"])"
   ]
  },
  {
   "cell_type": "code",
   "execution_count": 53,
   "metadata": {
    "scrolled": true
   },
   "outputs": [
    {
     "name": "stdout",
     "output_type": "stream",
     "text": [
      "Model: \"sequential_2\"\n",
      "_________________________________________________________________\n",
      "Layer (type)                 Output Shape              Param #   \n",
      "=================================================================\n",
      "dense_4 (Dense)              (None, 10)                210       \n",
      "_________________________________________________________________\n",
      "dense_5 (Dense)              (None, 20)                220       \n",
      "=================================================================\n",
      "Total params: 430\n",
      "Trainable params: 430\n",
      "Non-trainable params: 0\n",
      "_________________________________________________________________\n"
     ]
    }
   ],
   "source": [
    "model.summary()"
   ]
  },
  {
   "cell_type": "code",
   "execution_count": 54,
   "metadata": {},
   "outputs": [
    {
     "name": "stdout",
     "output_type": "stream",
     "text": [
      "Train on 14 samples, validate on 2 samples\n",
      "Epoch 1/10\n",
      "14/14 [==============================] - 0s 20ms/sample - loss: 0.0584 - accuracy: 0.1429 - val_loss: 0.0543 - val_accuracy: 0.0000e+00\n",
      "Epoch 2/10\n",
      "14/14 [==============================] - 0s 1ms/sample - loss: 0.0415 - accuracy: 0.0714 - val_loss: 0.0353 - val_accuracy: 0.0000e+00\n",
      "Epoch 3/10\n",
      "14/14 [==============================] - 0s 3ms/sample - loss: 0.0270 - accuracy: 0.0714 - val_loss: 0.0232 - val_accuracy: 0.0000e+00\n",
      "Epoch 4/10\n",
      "14/14 [==============================] - 0s 2ms/sample - loss: 0.0186 - accuracy: 0.0714 - val_loss: 0.0187 - val_accuracy: 0.0000e+00\n",
      "Epoch 5/10\n",
      "14/14 [==============================] - 0s 2ms/sample - loss: 0.0157 - accuracy: 0.0714 - val_loss: 0.0182 - val_accuracy: 0.0000e+00\n",
      "Epoch 6/10\n",
      "14/14 [==============================] - 0s 2ms/sample - loss: 0.0147 - accuracy: 0.0000e+00 - val_loss: 0.0184 - val_accuracy: 0.0000e+00\n",
      "Epoch 7/10\n",
      "14/14 [==============================] - 0s 4ms/sample - loss: 0.0142 - accuracy: 0.0000e+00 - val_loss: 0.0185 - val_accuracy: 0.0000e+00\n",
      "Epoch 8/10\n",
      "14/14 [==============================] - 0s 2ms/sample - loss: 0.0134 - accuracy: 0.0000e+00 - val_loss: 0.0187 - val_accuracy: 0.0000e+00\n",
      "Epoch 9/10\n",
      "14/14 [==============================] - 0s 3ms/sample - loss: 0.0127 - accuracy: 0.0714 - val_loss: 0.0185 - val_accuracy: 0.0000e+00\n",
      "Epoch 10/10\n",
      "14/14 [==============================] - 0s 2ms/sample - loss: 0.0123 - accuracy: 0.0714 - val_loss: 0.0184 - val_accuracy: 0.0000e+00\n"
     ]
    },
    {
     "data": {
      "text/plain": [
       "<tensorflow.python.keras.callbacks.History at 0x7fafe63b7350>"
      ]
     },
     "execution_count": 54,
     "metadata": {},
     "output_type": "execute_result"
    }
   ],
   "source": [
    "model.fit(train_data, train_data, epochs = 10, batch_size = 1, validation_split = 0.1,\n",
    "          callbacks = [tf.keras.callbacks.EarlyStopping(patience=10, monitor=\"val_loss\")])"
   ]
  },
  {
   "cell_type": "code",
   "execution_count": 55,
   "metadata": {},
   "outputs": [],
   "source": [
    "test_masked, mask_index = mask_data(test_data, 5)\n",
    "\n",
    "pred = model.predict(test_masked)"
   ]
  },
  {
   "cell_type": "code",
   "execution_count": 56,
   "metadata": {},
   "outputs": [
    {
     "data": {
      "text/plain": [
       "array([0.26967123, 0.2621002 , 0.3963258 , 0.22378118, 0.2930918 ],\n",
       "      dtype=float32)"
      ]
     },
     "execution_count": 56,
     "metadata": {},
     "output_type": "execute_result"
    }
   ],
   "source": [
    "pred[mask_index[:,0],mask_index[:,1]]"
   ]
  },
  {
   "cell_type": "code",
   "execution_count": 57,
   "metadata": {},
   "outputs": [
    {
     "data": {
      "text/plain": [
       "array([0.17474081, 0.39223227, 0.49029034, 0.34948162, 0.15961738])"
      ]
     },
     "execution_count": 57,
     "metadata": {},
     "output_type": "execute_result"
    }
   ],
   "source": [
    "test_data[mask_index[:,0],mask_index[:,1]]"
   ]
  }
 ],
 "metadata": {
  "kernelspec": {
   "display_name": ".venv",
   "language": "python",
   "name": ".venv"
  },
  "language_info": {
   "codemirror_mode": {
    "name": "ipython",
    "version": 3
   },
   "file_extension": ".py",
   "mimetype": "text/x-python",
   "name": "python",
   "nbconvert_exporter": "python",
   "pygments_lexer": "ipython3",
   "version": "3.7.4"
  }
 },
 "nbformat": 4,
 "nbformat_minor": 2
}

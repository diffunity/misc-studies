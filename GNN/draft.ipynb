{
 "cells": [
  {
   "cell_type": "code",
   "execution_count": 2,
   "metadata": {},
   "outputs": [],
   "source": [
    "import tensorflow as tf\n",
    "import numpy as np\n",
    "import matplotlib.pyplot as plt\n",
    "import seaborn as sns\n",
    "import itertools\n",
    "from GNN import TextGCN, GCN\n",
    "from utils import load_corpus\n",
    "from tensorflow.keras.metrics import CategoricalCrossentropy"
   ]
  },
  {
   "cell_type": "code",
   "execution_count": 115,
   "metadata": {
    "tags": []
   },
   "outputs": [
    {
     "output_type": "stream",
     "name": "stdout",
     "text": "(4937, 300) (4937, 8) (2189, 300) (2189, 8) (13173, 300) (13173, 8)\n15362\n"
    }
   ],
   "source": [
    "adj, features, y_train, y_val, y_test, train_mask, val_mask, test_mask, train_size, test_size = load_corpus(\"R8\")"
   ]
  },
  {
   "cell_type": "code",
   "execution_count": 116,
   "metadata": {},
   "outputs": [],
   "source": [
    "adj_dense = adj.todense().astype(np.float32)\n",
    "features_dense = features.todense().astype(np.float32)"
   ]
  },
  {
   "cell_type": "code",
   "execution_count": 117,
   "metadata": {},
   "outputs": [],
   "source": [
    "# features_dense[:-2189]\n",
    "# features_train = features_dense[:-2189]\n",
    "# features_test = features_dense[-2189:]\n",
    "# y_train = y_train[:-2189]\n",
    "# y_test = y_test[-2189:]"
   ]
  },
  {
   "cell_type": "code",
   "execution_count": 53,
   "metadata": {},
   "outputs": [
    {
     "output_type": "execute_result",
     "data": {
      "text/plain": "(13173, 300)"
     },
     "metadata": {},
     "execution_count": 53
    }
   ],
   "source": [
    "features_train.shape"
   ]
  },
  {
   "cell_type": "code",
   "execution_count": 110,
   "metadata": {},
   "outputs": [
    {
     "output_type": "execute_result",
     "data": {
      "text/plain": "10425"
     },
     "metadata": {},
     "execution_count": 110
    }
   ],
   "source": [
    "len(np.where(train_mask == False)[0])"
   ]
  },
  {
   "cell_type": "code",
   "execution_count": 113,
   "metadata": {},
   "outputs": [
    {
     "output_type": "execute_result",
     "data": {
      "text/plain": "4937"
     },
     "metadata": {},
     "execution_count": 113
    }
   ],
   "source": [
    "len(np.where(train_mask == True)[0])"
   ]
  },
  {
   "cell_type": "code",
   "execution_count": 84,
   "metadata": {},
   "outputs": [
    {
     "output_type": "execute_result",
     "data": {
      "text/plain": "(9877, 5485)"
     },
     "metadata": {},
     "execution_count": 84
    }
   ],
   "source": [
    "adj_dense[:-5485,-5485:].shape"
   ]
  },
  {
   "cell_type": "code",
   "execution_count": 93,
   "metadata": {},
   "outputs": [
    {
     "output_type": "execute_result",
     "data": {
      "text/plain": "(9877, 9877)"
     },
     "metadata": {},
     "execution_count": 93
    }
   ],
   "source": [
    "adj_dense[:-5485,:-5485].shape"
   ]
  },
  {
   "cell_type": "code",
   "execution_count": 106,
   "metadata": {},
   "outputs": [
    {
     "output_type": "execute_result",
     "data": {
      "text/plain": "(3.241013, 3.241013)"
     },
     "metadata": {},
     "execution_count": 106
    }
   ],
   "source": [
    "a, b = 9876, 9837\n",
    "adj_dense[:-5485,:-5485][a,b], adj_dense[:-5485,:-5485][b,a]"
   ]
  },
  {
   "cell_type": "code",
   "execution_count": 103,
   "metadata": {},
   "outputs": [
    {
     "output_type": "execute_result",
     "data": {
      "text/plain": "(array([   0,    0,    0, ..., 9876, 9876, 9876]),\n array([5493, 6238, 6745, ..., 9821, 9837, 9858]))"
     },
     "metadata": {},
     "execution_count": 103
    }
   ],
   "source": [
    "np.where(adj_dense[:-5485,:-5485] != 0)"
   ]
  },
  {
   "cell_type": "code",
   "execution_count": 104,
   "metadata": {},
   "outputs": [
    {
     "output_type": "execute_result",
     "data": {
      "text/plain": "3.903479"
     },
     "metadata": {},
     "execution_count": 104
    }
   ],
   "source": [
    "adj_dense[:-5485,:-5485][9876, 9821]"
   ]
  },
  {
   "cell_type": "code",
   "execution_count": 140,
   "metadata": {},
   "outputs": [
    {
     "output_type": "execute_result",
     "data": {
      "text/plain": "array([ True,  True,  True, ..., False, False, False])"
     },
     "metadata": {},
     "execution_count": 140
    }
   ],
   "source": [
    "train_mask = train_mask + val_mask"
   ]
  },
  {
   "cell_type": "code",
   "execution_count": 154,
   "metadata": {},
   "outputs": [
    {
     "output_type": "execute_result",
     "data": {
      "text/plain": "(array([   27,    76,    79, ..., 15359, 15360, 15361]),)"
     },
     "metadata": {},
     "execution_count": 154
    }
   ],
   "source": [
    "np.where(np.argmax((y_train + y_val), axis=-1) == 0)"
   ]
  },
  {
   "cell_type": "code",
   "execution_count": 155,
   "metadata": {},
   "outputs": [
    {
     "output_type": "execute_result",
     "data": {
      "text/plain": "(5485, 2189)"
     },
     "metadata": {},
     "execution_count": 155
    }
   ],
   "source": [
    "train_size, test_size"
   ]
  },
  {
   "cell_type": "code",
   "execution_count": 118,
   "metadata": {},
   "outputs": [],
   "source": [
    "model = GCN(adj_dense, layers=2, hidden_size=[64,8], dropout=0.7)\n",
    "\n",
    "output = model(features_dense)"
   ]
  },
  {
   "cell_type": "code",
   "execution_count": 119,
   "metadata": {},
   "outputs": [
    {
     "output_type": "execute_result",
     "data": {
      "text/plain": "<tf.Tensor: shape=(15362, 8), dtype=float32, numpy=\narray([[0.22746952, 0.64045167, 0.20985024, ..., 0.4818032 , 0.2408684 ,\n        0.20959687],\n       [0.06087749, 0.07684083, 0.02592787, ..., 0.06496865, 0.05490308,\n        0.10400116],\n       [0.05430752, 0.09826499, 0.17549118, ..., 0.0380405 , 0.0320874 ,\n        0.02457985],\n       ...,\n       [0.54437405, 0.9254319 , 0.96327084, ..., 0.9321483 , 0.8277507 ,\n        1.5347793 ],\n       [2.2180848 , 2.0315766 , 1.9225012 , ..., 2.8852468 , 2.427651  ,\n        1.9832155 ],\n       [0.04187041, 0.06992984, 0.05136723, ..., 0.1640001 , 0.13316566,\n        0.10362199]], dtype=float32)>"
     },
     "metadata": {},
     "execution_count": 119
    }
   ],
   "source": [
    "output"
   ]
  },
  {
   "cell_type": "code",
   "execution_count": 125,
   "metadata": {},
   "outputs": [],
   "source": [
    "def masked_softmax_cross_entropy(preds, labels, mask):\n",
    "    \"\"\"Softmax cross-entropy loss with masking.\"\"\"\n",
    "    loss = tf.nn.softmax_cross_entropy_with_logits(logits=preds, labels=labels)\n",
    "    mask = tf.cast(mask, dtype=tf.float32)\n",
    "    mask /= tf.reduce_mean(mask)\n",
    "    loss *= mask\n",
    "    return tf.reduce_mean(loss)\n",
    "\n",
    "\n",
    "def masked_accuracy(preds, labels, mask):\n",
    "    \"\"\"Accuracy with masking.\"\"\"\n",
    "    correct_prediction = tf.equal(tf.argmax(preds, 1), tf.argmax(labels, 1))\n",
    "    accuracy_all = tf.cast(correct_prediction, tf.float32)\n",
    "    mask = tf.cast(mask, dtype=tf.float32)\n",
    "    mask /= tf.reduce_mean(mask)\n",
    "    accuracy_all *= mask\n",
    "    return tf.reduce_mean(accuracy_all)"
   ]
  },
  {
   "cell_type": "code",
   "execution_count": 158,
   "metadata": {},
   "outputs": [
    {
     "output_type": "execute_result",
     "data": {
      "text/plain": "(array([[ 5485,   299],\n        [ 5485,   298],\n        [ 5485,   297],\n        ...,\n        [13172,     2],\n        [13172,     1],\n        [13172,     0]], dtype=int32),\n array([-2.00174035,  0.03622683,  0.87804978, ...,  0.04228568,\n         0.01613521, -0.1138999 ]),\n (15362, 300))"
     },
     "metadata": {},
     "execution_count": 158
    }
   ],
   "source": [
    "import scipy.sparse as sp\n",
    "def sparse_to_tuple(sparse_mx):\n",
    "    \"\"\"Convert sparse matrix to tuple representation.\"\"\"\n",
    "    def to_tuple(mx):\n",
    "        if not sp.isspmatrix_coo(mx):\n",
    "            mx = mx.tocoo()\n",
    "        coords = np.vstack((mx.row, mx.col)).transpose()\n",
    "        values = mx.data\n",
    "        shape = mx.shape\n",
    "        return coords, values, shape\n",
    "\n",
    "    if isinstance(sparse_mx, list):\n",
    "        for i in range(len(sparse_mx)):\n",
    "            sparse_mx[i] = to_tuple(sparse_mx[i])\n",
    "    else:\n",
    "        sparse_mx = to_tuple(sparse_mx)\n",
    "\n",
    "    return sparse_mx\n",
    "def preprocess_features(features):\n",
    "    \"\"\"Row-normalize feature matrix and convert to tuple representation\"\"\"\n",
    "    rowsum = np.array(features.sum(1))\n",
    "    r_inv = np.power(rowsum, -1).flatten()\n",
    "    r_inv[np.isinf(r_inv)] = 0.\n",
    "    r_mat_inv = sp.diags(r_inv)\n",
    "    features = r_mat_inv.dot(features)\n",
    "    return sparse_to_tuple(features)\n",
    "\n",
    "\n",
    "preprocess_features(features)"
   ]
  },
  {
   "cell_type": "code",
   "execution_count": 126,
   "metadata": {},
   "outputs": [
    {
     "output_type": "execute_result",
     "data": {
      "text/plain": "<tf.Tensor: shape=(), dtype=float32, numpy=2.1135924>"
     },
     "metadata": {},
     "execution_count": 126
    }
   ],
   "source": [
    "masked_softmax_cross_entropy(output, y_train, train_mask)"
   ]
  },
  {
   "cell_type": "code",
   "execution_count": 127,
   "metadata": {},
   "outputs": [],
   "source": [
    "a = masked_softmax_cross_entropy"
   ]
  },
  {
   "cell_type": "code",
   "execution_count": 161,
   "metadata": {},
   "outputs": [
    {
     "output_type": "execute_result",
     "data": {
      "text/plain": "5485"
     },
     "metadata": {},
     "execution_count": 161
    }
   ],
   "source": [
    "(train_mask + val_mask).sum()"
   ]
  },
  {
   "cell_type": "code",
   "execution_count": 162,
   "metadata": {},
   "outputs": [
    {
     "output_type": "execute_result",
     "data": {
      "text/plain": "2189"
     },
     "metadata": {},
     "execution_count": 162
    }
   ],
   "source": [
    "test_mask.sum()"
   ]
  },
  {
   "cell_type": "code",
   "execution_count": 164,
   "metadata": {},
   "outputs": [
    {
     "output_type": "execute_result",
     "data": {
      "text/plain": "(15362, 8)"
     },
     "metadata": {},
     "execution_count": 164
    }
   ],
   "source": [
    "y_train.shape"
   ]
  },
  {
   "cell_type": "code",
   "execution_count": 128,
   "metadata": {},
   "outputs": [
    {
     "output_type": "execute_result",
     "data": {
      "text/plain": "<tf.Tensor: shape=(), dtype=float32, numpy=2.1135924>"
     },
     "metadata": {},
     "execution_count": 128
    }
   ],
   "source": [
    "a(output, y_train, train_mask)"
   ]
  },
  {
   "cell_type": "code",
   "execution_count": 132,
   "metadata": {},
   "outputs": [
    {
     "output_type": "execute_result",
     "data": {
      "text/plain": "<tf.Tensor: shape=(), dtype=float32, numpy=0.11146644>"
     },
     "metadata": {},
     "execution_count": 132
    }
   ],
   "source": [
    "masked_accuracy(output,y_test,test_mask)"
   ]
  },
  {
   "cell_type": "code",
   "execution_count": 8,
   "metadata": {},
   "outputs": [
    {
     "output_type": "execute_result",
     "data": {
      "text/plain": "<tf.Tensor: shape=(15362,), dtype=int64, numpy=array([3, 2, 7, ..., 0, 0, 0])>"
     },
     "metadata": {},
     "execution_count": 8
    }
   ],
   "source": [
    "tf.argmax(y_train, axis=1)"
   ]
  },
  {
   "cell_type": "code",
   "execution_count": 15,
   "metadata": {},
   "outputs": [],
   "source": [
    "loss = CategoricalCrossentropy()\n",
    "loss_val = loss(y_train, output)\n",
    "loss_val"
   ]
  },
  {
   "cell_type": "code",
   "execution_count": 24,
   "metadata": {},
   "outputs": [
    {
     "output_type": "execute_result",
     "data": {
      "text/plain": "0.3472204140085926"
     },
     "metadata": {},
     "execution_count": 24
    }
   ],
   "source": [
    "(tf.argmax(y_test,axis=-1) == tf.argmax(tf.nn.softmax(output,axis=0),axis=-1)).numpy().mean()"
   ]
  },
  {
   "cell_type": "code",
   "execution_count": 18,
   "metadata": {},
   "outputs": [
    {
     "output_type": "execute_result",
     "data": {
      "text/plain": "<tf.Tensor: shape=(15362,), dtype=int64, numpy=array([0, 0, 0, ..., 3, 6, 7])>"
     },
     "metadata": {},
     "execution_count": 18
    }
   ],
   "source": []
  }
 ],
 "metadata": {
  "kernelspec": {
   "display_name": ".venv",
   "language": "python",
   "name": ".venv"
  },
  "language_info": {
   "codemirror_mode": {
    "name": "ipython",
    "version": 3
   },
   "file_extension": ".py",
   "mimetype": "text/x-python",
   "name": "python",
   "nbconvert_exporter": "python",
   "pygments_lexer": "ipython3",
   "version": "3.7.4-final"
  }
 },
 "nbformat": 4,
 "nbformat_minor": 2
}